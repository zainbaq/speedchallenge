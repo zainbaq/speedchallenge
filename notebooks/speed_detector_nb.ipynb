{
 "cells": [
  {
   "cell_type": "code",
   "execution_count": 1,
   "id": "abf5f59d",
   "metadata": {},
   "outputs": [],
   "source": [
    "import utils\n",
    "import cv2 as cv\n",
    "import numpy as np\n",
    "import argparse\n",
    "import os\n",
    "import torch as torch\n",
    "import torch.nn as nn\n",
    "from tqdm import tqdm\n",
    "from torch.utils.data import Dataset, DataLoader\n",
    "import pandas as pd\n",
    "from model import SpeedDetector\n",
    "from sklearn.preprocessing import StandardScaler\n",
    "from torch.utils.data import random_split\n",
    "import pickle"
   ]
  },
  {
   "cell_type": "code",
   "execution_count": 2,
   "id": "58fc4323",
   "metadata": {
    "tags": []
   },
   "outputs": [],
   "source": [
    "class DashCamDataset(Dataset):\n",
    "    \n",
    "    def normalize(self, arr, return_scaler=True, scalerfile='../data/scalers/scaler.sav'):\n",
    "        scaler = StandardScaler()\n",
    "        normed = scaler.fit_transform(arr.reshape(-1, 1))\n",
    "        \n",
    "        # save scaler\n",
    "        pickle.dump(scaler, open(scalerfile, 'wb'))\n",
    "        \n",
    "        if return_scaler:\n",
    "            return normed, scaler\n",
    "        else:\n",
    "            return normed   \n",
    "\n",
    "    def frames_to_numpy(self, path):\n",
    "        data = {}\n",
    "        print('Loading frames and labels...')\n",
    "        for i, filename in tqdm(enumerate(os.listdir(path))):\n",
    "            if filename.endswith(\".jpg\"):\n",
    "                img = cv.imread(path+filename)\n",
    "                data[i] = img\n",
    "                continue\n",
    "            else:\n",
    "                continue\n",
    "        return data\n",
    "\n",
    "    def __init__(self, video_path, labels_path, transform=None, target_transform=None):\n",
    "        self.frame_labels = pd.read_csv(labels_path)\n",
    "        self.frame_labels.columns = ['speed']\n",
    "        self.transform = transform\n",
    "        self.target_transform = target_transform\n",
    "        \n",
    "        if self.target_transform == 'norm':\n",
    "            self.y, self.scaler = self.normalize(self.frame_labels.speed.values)\n",
    "        elif self.target_transform == None:\n",
    "            self.y = self.frame_labels.speed.values.reshape(-1, 1)\n",
    "        \n",
    "        if video_path.endswith('/') == False:\n",
    "            print('Reading video and computing optical flow...')\n",
    "            utils.video_to_optical_flow_frames(video_path, 'data/rgb/')\n",
    "            self.x = self.frames_to_numpy(video_path)\n",
    "        else:\n",
    "            self.x = self.frames_to_numpy(video_path)\n",
    "\n",
    "        if len(self.x) != len(self.y):\n",
    "            print(f'X ({len(self.x)}) and y ({len(self.y)}) are misaligned')\n",
    "\n",
    "    def __len__(self):\n",
    "        return len(self.y)\n",
    "\n",
    "    def __getitem__(self, idx):\n",
    "        image = self.x[idx]\n",
    "        label = self.y[idx]\n",
    "\n",
    "        if self.transform:\n",
    "            image = self.transform(image)\n",
    "        label = torch.Tensor(label)\n",
    "\n",
    "        sample = {\"image\": image, \"label\": label}\n",
    "        \n",
    "        return sample"
   ]
  },
  {
   "cell_type": "code",
   "execution_count": 3,
   "id": "dbe4b4ab",
   "metadata": {
    "tags": []
   },
   "outputs": [],
   "source": [
    "frames_path = '../data/rgb/'\n",
    "video_path = '../data/raw_video/train.mp4'\n",
    "labels_path = '../data/labels/train.txt'\n",
    "batch_size = 128"
   ]
  },
  {
   "cell_type": "code",
   "execution_count": 4,
   "id": "29be8a05",
   "metadata": {},
   "outputs": [],
   "source": [
    "from torchvision import transforms\n",
    "\n",
    "image_transforms = transforms.Compose([\n",
    "    transforms.ToPILImage(),\n",
    "    transforms.CenterCrop((150, 480)),\n",
    "    transforms.RandomHorizontalFlip(p=0.5),\n",
    "    transforms.ColorJitter(),\n",
    "    transforms.ToTensor(),\n",
    "#     transforms.Grayscale(),\n",
    "    transforms.Normalize([0, 0, 0], [1, 1, 1])\n",
    "])"
   ]
  },
  {
   "cell_type": "code",
   "execution_count": 5,
   "id": "dc2445b6",
   "metadata": {
    "tags": []
   },
   "outputs": [
    {
     "name": "stderr",
     "output_type": "stream",
     "text": [
      "6it [00:00, 56.53it/s]"
     ]
    },
    {
     "name": "stdout",
     "output_type": "stream",
     "text": [
      "Loading frames and labels...\n"
     ]
    },
    {
     "name": "stderr",
     "output_type": "stream",
     "text": [
      "20399it [02:39, 128.00it/s]\n"
     ]
    }
   ],
   "source": [
    "dataset = DashCamDataset(\n",
    "    frames_path,\n",
    "    labels_path, \n",
    "    transform=image_transforms,\n",
    "    target_transform='norm'\n",
    ")"
   ]
  },
  {
   "cell_type": "code",
   "execution_count": 6,
   "id": "f4b9e0b9",
   "metadata": {},
   "outputs": [],
   "source": [
    "class SpeedDetector(nn.Module):\n",
    "        def __init__(self, hidden_size):\n",
    "                super().__init__()\n",
    "\n",
    "                self.hidden_size = hidden_size\n",
    "                self.conv1 = nn.Conv2d(3, 6, 3)\n",
    "                self.norm1 = nn.BatchNorm2d(6)\n",
    "                \n",
    "                self.conv2 = nn.Conv2d(6, 12, 8)\n",
    "                self.norm2 = nn.BatchNorm2d(12)\n",
    "\n",
    "                self.conv3 = nn.Conv2d(12, 24, 7)\n",
    "                self.norm3 = nn.BatchNorm2d(24)\n",
    "\n",
    "                self.conv4 = nn.Conv2d(24, 36, 4)\n",
    "                self.norm4 = nn.BatchNorm2d(36)\n",
    "                \n",
    "                self.relu = nn.ReLU()\n",
    "                self.pool = nn.AvgPool2d(2)\n",
    "                self.dropout = nn.Dropout(0.5)\n",
    "\n",
    "                self.fc1 = nn.Linear(4680, self.hidden_size)\n",
    "                self.fc2 = nn.Linear(self.hidden_size, self.hidden_size)\n",
    "                self.fc3 = nn.Linear(self.hidden_size, 1)\n",
    "\n",
    "        def forward(self, x):\n",
    "                \n",
    "                # Convolution layers\n",
    "                # print(x.shape)\n",
    "                x = self.relu(self.pool(self.norm1(self.conv1(x))))\n",
    "                # print(x.shape)\n",
    "\n",
    "                x = self.relu(self.pool(self.norm2(self.conv2(x))))\n",
    "                # print(x.shape)\n",
    "\n",
    "                x = self.relu(self.pool(self.norm3(self.conv3(x))))\n",
    "                # print(x.shape)\n",
    "\n",
    "                x = self.relu(self.pool(self.norm4(self.conv4(x))))\n",
    "                # print(x.shape)\n",
    "\n",
    "                # fully connected layers\n",
    "                x = x.view(x.size(0), -1)\n",
    "                # print(x.shape)\n",
    "                \n",
    "                x = self.dropout(x)\n",
    "                x = self.relu(self.fc1(x))\n",
    "                # print(x.shape)\n",
    "\n",
    "                x = self.dropout(x)\n",
    "                x = self.fc2(x)\n",
    "                # print(x.shape)\n",
    "\n",
    "                x = self.dropout(x)\n",
    "                x = self.fc3(x)\n",
    "                # print(x.shape)\n",
    "                return x\n",
    "\n",
    "        def predict(self, image):\n",
    "                self.eval()\n",
    "                with torch.no_grad():\n",
    "                        prediction = self.forward(image)\n",
    "                return prediction\n",
    "        \n",
    "        def save_checkpoint(self, epoch, optimizer, loss, f_path):\n",
    "                torch.save({\n",
    "                        'epoch': epoch,\n",
    "                        'model_state_dict': self.state_dict(),\n",
    "                        'optimizer_state_dict': optimizer.state_dict(),\n",
    "                        'loss': loss\n",
    "                        }, f_path)\n",
    "                \n",
    "        def load_checkpoint(self, checkpoint_path, model, optimizer):\n",
    "                checkpoint = torch.load(checkpoint_path)\n",
    "                model.load_state_dict(checkpoint['model_state_dict'])\n",
    "                optimizer.load_state_dict(checkpoint['optimizer_state_dict'])\n",
    "                return model, optimizer"
   ]
  },
  {
   "cell_type": "code",
   "execution_count": 7,
   "id": "09de6bc0",
   "metadata": {},
   "outputs": [],
   "source": [
    "# Train / Validation split\n",
    "split = 0.8\n",
    "train_len = int(len(dataset)*split)\n",
    "lengths = [train_len, len(dataset)-train_len]\n",
    "\n",
    "trainset, validset = random_split(dataset, lengths)\n",
    "\n",
    "trainloader = DataLoader(trainset, batch_size=batch_size, shuffle=True)\n",
    "validloader = DataLoader(validset, batch_size=batch_size, shuffle=True)"
   ]
  },
  {
   "cell_type": "code",
   "execution_count": 8,
   "id": "f48899a0",
   "metadata": {},
   "outputs": [],
   "source": [
    "device = 'cuda' if torch.cuda.is_available() else 'cpu'"
   ]
  },
  {
   "cell_type": "code",
   "execution_count": 54,
   "id": "541f8f0b",
   "metadata": {},
   "outputs": [],
   "source": [
    "model_path = None # 'models/model_normed.pt'\n",
    "\n",
    "if model_path != None:\n",
    "    model = SpeedDetector().to(device)   \n",
    "    model.load_state_dict(torch.load(model_path))\n",
    "else:\n",
    "    model = SpeedDetector().to(device)\n",
    "    \n",
    "criterion = nn.MSELoss().to(device)\n",
    "optimizer = torch.optim.Adam(model.parameters(), lr=3e-4)"
   ]
  },
  {
   "cell_type": "code",
   "execution_count": 56,
   "id": "a1b70126",
   "metadata": {
    "scrolled": true
   },
   "outputs": [
    {
     "name": "stderr",
     "output_type": "stream",
     "text": [
      "1it [00:00, 15.61it/s]\n",
      "1it [00:00, 16.93it/s]\n",
      "1it [00:00, 17.23it/s]"
     ]
    },
    {
     "name": "stdout",
     "output_type": "stream",
     "text": [
      "SpeedDetector(\n",
      "  (conv1): Conv2d(1, 3, kernel_size=(3, 3), stride=(1, 1))\n",
      "  (norm1): BatchNorm2d(3, eps=1e-05, momentum=0.1, affine=True, track_running_stats=True)\n",
      "  (conv2): Conv2d(3, 6, kernel_size=(3, 3), stride=(1, 1))\n",
      "  (norm2): BatchNorm2d(6, eps=1e-05, momentum=0.1, affine=True, track_running_stats=True)\n",
      "  (conv3): Conv2d(6, 12, kernel_size=(6, 6), stride=(1, 1))\n",
      "  (norm3): BatchNorm2d(12, eps=1e-05, momentum=0.1, affine=True, track_running_stats=True)\n",
      "  (conv4): Conv2d(12, 24, kernel_size=(12, 12), stride=(1, 1))\n",
      "  (norm4): BatchNorm2d(24, eps=1e-05, momentum=0.1, affine=True, track_running_stats=True)\n",
      "  (relu): ReLU()\n",
      "  (pool): AvgPool2d(kernel_size=2, stride=2, padding=0)\n",
      "  (dropout): Dropout(p=0.5, inplace=False)\n",
      "  (fc1): Linear(in_features=1056, out_features=64, bias=True)\n",
      "  (fc2): Linear(in_features=64, out_features=64, bias=True)\n",
      "  (fc3): Linear(in_features=64, out_features=1, bias=True)\n",
      ")\n",
      "0.008501577191054821\n",
      "0.008437849581241608\n"
     ]
    },
    {
     "name": "stderr",
     "output_type": "stream",
     "text": [
      "\n",
      "1it [00:00, 17.84it/s]\n",
      "1it [00:00, 18.23it/s]\n",
      "1it [00:00, 18.17it/s]\n",
      "0it [00:00, ?it/s]"
     ]
    },
    {
     "name": "stdout",
     "output_type": "stream",
     "text": [
      "0.008106360211968422\n",
      "0.008084114640951157\n",
      "0.008125260472297668\n",
      "0.007780455052852631\n"
     ]
    },
    {
     "name": "stderr",
     "output_type": "stream",
     "text": [
      "1it [00:00, 17.23it/s]\n",
      "1it [00:00, 18.50it/s]\n",
      "1it [00:00, 17.84it/s]\n",
      "1it [00:00, 14.27it/s]"
     ]
    },
    {
     "name": "stdout",
     "output_type": "stream",
     "text": [
      "0.008070340380072594\n",
      "0.008074904792010784\n",
      "0.007431154139339924\n"
     ]
    },
    {
     "name": "stderr",
     "output_type": "stream",
     "text": [
      "\n",
      "1it [00:00, 14.69it/s]\n",
      "1it [00:00, 14.27it/s]\n",
      "1it [00:00, 17.84it/s]"
     ]
    },
    {
     "name": "stdout",
     "output_type": "stream",
     "text": [
      "0.007458917796611786\n",
      "0.007491227239370346\n",
      "0.007779756095260382\n"
     ]
    },
    {
     "name": "stderr",
     "output_type": "stream",
     "text": [
      "\n",
      "1it [00:00, 17.53it/s]\n",
      "1it [00:00, 17.84it/s]\n",
      "1it [00:00, 17.53it/s]\n",
      "0it [00:00, ?it/s]"
     ]
    },
    {
     "name": "stdout",
     "output_type": "stream",
     "text": [
      "0.0075971586629748344\n",
      "0.007310889661312103\n",
      "0.0077268583700060844\n",
      "0.007542290724813938\n"
     ]
    },
    {
     "name": "stderr",
     "output_type": "stream",
     "text": [
      "1it [00:00, 17.24it/s]\n",
      "1it [00:00, 18.47it/s]\n",
      "1it [00:00, 18.17it/s]\n",
      "1it [00:00, 18.19it/s]\n",
      "0it [00:00, ?it/s]"
     ]
    },
    {
     "name": "stdout",
     "output_type": "stream",
     "text": [
      "0.007436519023030996\n",
      "0.00742451474070549\n",
      "0.007667801342904568\n",
      "0.007305796258151531\n"
     ]
    },
    {
     "name": "stderr",
     "output_type": "stream",
     "text": [
      "1it [00:00, 16.93it/s]\n",
      "1it [00:00, 18.20it/s]\n",
      "1it [00:00, 15.21it/s]\n",
      "0it [00:00, ?it/s]"
     ]
    },
    {
     "name": "stdout",
     "output_type": "stream",
     "text": [
      "0.007477059960365295\n",
      "0.0075114136561751366\n",
      "0.0068633644841611385\n"
     ]
    },
    {
     "name": "stderr",
     "output_type": "stream",
     "text": [
      "1it [00:00, 14.48it/s]\n",
      "1it [00:00, 14.69it/s]\n",
      "1it [00:00, 15.61it/s]\n",
      "1it [00:00, 18.17it/s]"
     ]
    },
    {
     "name": "stdout",
     "output_type": "stream",
     "text": [
      "0.00720730796456337\n",
      "0.006880225148051977\n",
      "0.007147578522562981\n"
     ]
    },
    {
     "name": "stderr",
     "output_type": "stream",
     "text": [
      "\n",
      "1it [00:00, 18.17it/s]\n",
      "1it [00:00, 18.50it/s]\n",
      "1it [00:00, 18.17it/s]\n",
      "0it [00:00, ?it/s]"
     ]
    },
    {
     "name": "stdout",
     "output_type": "stream",
     "text": [
      "0.006579422391951084\n",
      "0.006440358702093363\n",
      "0.007016145624220371\n",
      "0.006462902761995792\n"
     ]
    },
    {
     "name": "stderr",
     "output_type": "stream",
     "text": [
      "1it [00:00, 17.53it/s]\n",
      "1it [00:00, 18.17it/s]\n",
      "1it [00:00, 18.17it/s]\n",
      "1it [00:00, 18.50it/s]\n",
      "0it [00:00, ?it/s]"
     ]
    },
    {
     "name": "stdout",
     "output_type": "stream",
     "text": [
      "0.006913147866725922\n",
      "0.0064786518923938274\n",
      "0.006495567969977856\n",
      "0.006446392275393009\n"
     ]
    },
    {
     "name": "stderr",
     "output_type": "stream",
     "text": [
      "1it [00:00, 17.23it/s]\n",
      "1it [00:00, 18.17it/s]\n",
      "1it [00:00, 17.23it/s]\n",
      "1it [00:00, 17.23it/s]\n",
      "0it [00:00, ?it/s]"
     ]
    },
    {
     "name": "stdout",
     "output_type": "stream",
     "text": [
      "0.005913798697292805\n",
      "0.00656873919069767\n",
      "0.005928583908826113\n",
      "0.005989772733300924\n"
     ]
    },
    {
     "name": "stderr",
     "output_type": "stream",
     "text": [
      "1it [00:00, 16.11it/s]\n",
      "1it [00:00, 14.48it/s]\n",
      "1it [00:00, 16.11it/s]\n",
      "0it [00:00, ?it/s]"
     ]
    },
    {
     "name": "stdout",
     "output_type": "stream",
     "text": [
      "0.006616238504648209\n",
      "0.005155895836651325\n",
      "0.005819851532578468\n"
     ]
    },
    {
     "name": "stderr",
     "output_type": "stream",
     "text": [
      "1it [00:00, 16.38it/s]\n",
      "1it [00:00, 16.93it/s]\n",
      "1it [00:00, 16.93it/s]\n",
      "1it [00:00, 16.93it/s]\n",
      "0it [00:00, ?it/s]"
     ]
    },
    {
     "name": "stdout",
     "output_type": "stream",
     "text": [
      "0.005703224800527096\n",
      "0.0054682036861777306\n",
      "0.005730642005801201\n",
      "0.0056503769010305405\n"
     ]
    },
    {
     "name": "stderr",
     "output_type": "stream",
     "text": [
      "1it [00:00, 16.93it/s]\n",
      "1it [00:00, 16.65it/s]\n",
      "1it [00:00, 17.23it/s]\n",
      "1it [00:00, 17.53it/s]\n",
      "0it [00:00, ?it/s]"
     ]
    },
    {
     "name": "stdout",
     "output_type": "stream",
     "text": [
      "0.005462569184601307\n",
      "0.005660955794155598\n",
      "0.005076011177152395\n",
      "0.005647382698953152\n"
     ]
    },
    {
     "name": "stderr",
     "output_type": "stream",
     "text": [
      "1it [00:00, 17.23it/s]\n",
      "1it [00:00, 17.23it/s]\n",
      "1it [00:00, 17.53it/s]\n",
      "1it [00:00, 17.23it/s]\n"
     ]
    },
    {
     "name": "stdout",
     "output_type": "stream",
     "text": [
      "0.005681929178535938\n",
      "0.004493255168199539\n",
      "0.004130581859499216\n",
      "0.005098074674606323\n"
     ]
    },
    {
     "name": "stderr",
     "output_type": "stream",
     "text": [
      "1it [00:00, 17.53it/s]\n",
      "1it [00:00, 16.93it/s]\n",
      "1it [00:00, 16.38it/s]\n",
      "1it [00:00, 17.23it/s]"
     ]
    },
    {
     "name": "stdout",
     "output_type": "stream",
     "text": [
      "0.0046468693763017654\n",
      "0.004067443311214447\n",
      "0.004190250299870968\n"
     ]
    },
    {
     "name": "stderr",
     "output_type": "stream",
     "text": [
      "\n",
      "1it [00:00, 17.23it/s]\n",
      "1it [00:00, 17.23it/s]\n",
      "1it [00:00, 18.16it/s]\n",
      "0it [00:00, ?it/s]"
     ]
    },
    {
     "name": "stdout",
     "output_type": "stream",
     "text": [
      "0.00477440282702446\n",
      "0.004081162624061108\n",
      "0.004850286524742842\n",
      "0.004218047484755516\n"
     ]
    },
    {
     "name": "stderr",
     "output_type": "stream",
     "text": [
      "1it [00:00, 16.11it/s]\n",
      "1it [00:00, 17.53it/s]\n",
      "1it [00:00, 17.23it/s]\n",
      "1it [00:00, 17.23it/s]\n",
      "0it [00:00, ?it/s]"
     ]
    },
    {
     "name": "stdout",
     "output_type": "stream",
     "text": [
      "0.00406978465616703\n",
      "0.004503511358052492\n",
      "0.0043795425444841385\n",
      "0.0041824388317763805\n"
     ]
    },
    {
     "name": "stderr",
     "output_type": "stream",
     "text": [
      "1it [00:00, 17.08it/s]\n",
      "1it [00:00, 16.65it/s]\n",
      "1it [00:00, 16.93it/s]\n",
      "0it [00:00, ?it/s]"
     ]
    },
    {
     "name": "stdout",
     "output_type": "stream",
     "text": [
      "0.004071229137480259\n",
      "0.004582011606544256\n",
      "0.0038928152061998844\n"
     ]
    },
    {
     "name": "stderr",
     "output_type": "stream",
     "text": [
      "1it [00:00, 16.93it/s]\n",
      "1it [00:00, 17.23it/s]\n",
      "1it [00:00, 14.48it/s]\n",
      "1it [00:00, 16.11it/s]"
     ]
    },
    {
     "name": "stdout",
     "output_type": "stream",
     "text": [
      "0.0036511155776679516\n",
      "0.0035671545192599297\n",
      "0.003894431982189417\n"
     ]
    },
    {
     "name": "stderr",
     "output_type": "stream",
     "text": [
      "\n",
      "1it [00:00, 16.11it/s]\n",
      "1it [00:00, 15.86it/s]\n",
      "1it [00:00, 16.93it/s]"
     ]
    },
    {
     "name": "stdout",
     "output_type": "stream",
     "text": [
      "0.003752483520656824\n",
      "0.0036223542410880327\n",
      "0.003553854301571846\n"
     ]
    },
    {
     "name": "stderr",
     "output_type": "stream",
     "text": [
      "\n",
      "1it [00:00, 17.23it/s]\n",
      "1it [00:00, 16.38it/s]\n",
      "1it [00:00, 17.53it/s]\n",
      "0it [00:00, ?it/s]"
     ]
    },
    {
     "name": "stdout",
     "output_type": "stream",
     "text": [
      "0.0036905803717672825\n",
      "0.0034346170723438263\n",
      "0.0029208241030573845\n",
      "0.003211179981008172\n"
     ]
    },
    {
     "name": "stderr",
     "output_type": "stream",
     "text": [
      "1it [00:00, 16.11it/s]\n",
      "1it [00:00, 17.84it/s]\n",
      "1it [00:00, 17.23it/s]\n",
      "1it [00:00, 17.53it/s]\n",
      "0it [00:00, ?it/s]"
     ]
    },
    {
     "name": "stdout",
     "output_type": "stream",
     "text": [
      "0.0033195384312421083\n",
      "0.0032673447858542204\n",
      "0.003415676299482584\n",
      "0.003261398058384657\n"
     ]
    },
    {
     "name": "stderr",
     "output_type": "stream",
     "text": [
      "1it [00:00, 16.93it/s]\n",
      "1it [00:00, 16.65it/s]\n",
      "1it [00:00, 15.37it/s]\n",
      "0it [00:00, ?it/s]"
     ]
    },
    {
     "name": "stdout",
     "output_type": "stream",
     "text": [
      "0.0034121861681342125\n",
      "0.002982705133035779\n",
      "0.003194398246705532\n"
     ]
    },
    {
     "name": "stderr",
     "output_type": "stream",
     "text": [
      "1it [00:00, 14.48it/s]\n",
      "1it [00:00, 15.37it/s]\n",
      "1it [00:00, 15.61it/s]\n",
      "0it [00:00, ?it/s]"
     ]
    },
    {
     "name": "stdout",
     "output_type": "stream",
     "text": [
      "0.0030385456047952175\n",
      "0.0029493600595742464\n",
      "0.0028160936199128628\n"
     ]
    },
    {
     "name": "stderr",
     "output_type": "stream",
     "text": [
      "1it [00:00, 15.37it/s]\n",
      "1it [00:00, 16.38it/s]\n",
      "1it [00:00, 16.11it/s]\n",
      "1it [00:00, 15.86it/s]"
     ]
    },
    {
     "name": "stdout",
     "output_type": "stream",
     "text": [
      "0.0031660187523812056\n",
      "0.002369875553995371\n",
      "0.0029523707926273346\n"
     ]
    },
    {
     "name": "stderr",
     "output_type": "stream",
     "text": [
      "\n",
      "1it [00:00, 16.38it/s]\n",
      "1it [00:00, 16.93it/s]\n",
      "1it [00:00, 17.23it/s]"
     ]
    },
    {
     "name": "stdout",
     "output_type": "stream",
     "text": [
      "0.002942994236946106\n",
      "0.003437679260969162\n",
      "0.00308847613632679\n"
     ]
    },
    {
     "name": "stderr",
     "output_type": "stream",
     "text": [
      "\n",
      "1it [00:00, 18.17it/s]\n",
      "1it [00:00, 17.53it/s]\n",
      "1it [00:00, 14.48it/s]"
     ]
    },
    {
     "name": "stdout",
     "output_type": "stream",
     "text": [
      "0.0022992235608398914\n",
      "0.002136324066668749\n",
      "0.0022381048183888197\n"
     ]
    },
    {
     "name": "stderr",
     "output_type": "stream",
     "text": [
      "\n",
      "1it [00:00, 14.48it/s]\n",
      "1it [00:00, 16.38it/s]\n",
      "1it [00:00, 13.50it/s]"
     ]
    },
    {
     "name": "stdout",
     "output_type": "stream",
     "text": [
      "0.0028029445093125105\n",
      "0.0024395370855927467\n",
      "0.0022879326716065407\n",
      "0.0028521220665425062\n"
     ]
    },
    {
     "name": "stderr",
     "output_type": "stream",
     "text": [
      "\n"
     ]
    }
   ],
   "source": [
    "# sample = next(iter(trainloader))\n",
    "# model(sample['image'].to(device))\n",
    "\n",
    "# print(model)\n",
    "# n_epochs = 100\n",
    "# for epoch in range(n_epochs):\n",
    "#     # Train\n",
    "#     train_loss = 0.0\n",
    "#     model.train()\n",
    "#     for batch_idx, batch in tqdm(enumerate([sample])):\n",
    "#         image, label = batch['image'].to(device), batch['label'].to(device)\n",
    "\n",
    "#         optimizer.zero_grad()\n",
    "#         output = model(image)\n",
    "#         loss = criterion(output, label)\n",
    "\n",
    "#         loss.backward()\n",
    "#         optimizer.step()\n",
    "\n",
    "#         train_loss += loss.item()\n",
    "#     train_loss = train_loss / len(trainloader)\n",
    "#     print(train_loss)\n",
    "#     # Validate\n",
    "#     valid_loss = 0.0\n",
    "#     model.eval()\n",
    "#     for batch_idx, batch in tqdm(enumerate([next(iter(validloader))])):\n",
    "\n",
    "#         with torch.no_grad():\n",
    "#             image, label = batch['image'].to(device), batch['label'].to(device)\n",
    "\n",
    "#             output = model(image)\n",
    "#             error = criterion(output, label)\n",
    "\n",
    "#             valid_loss += error.item()\n",
    "#     valid_loss = valid_loss / len(validloader)\n",
    "    \n",
    "#     print(f'{epoch} - train: {train_loss}, valid: {valid_loss}')"
   ]
  },
  {
   "cell_type": "code",
   "execution_count": 15,
   "id": "b2c7894e",
   "metadata": {},
   "outputs": [
    {
     "data": {
      "image/png": "[encoded data removed]",
      "text/plain": [
       "<Figure size 432x288 with 1 Axes>"
      ]
     },
     "metadata": {
      "needs_background": "light"
     },
     "output_type": "display_data"
    }
   ],
   "source": [
    "import matplotlib.pyplot as plt\n",
    "sample = next(iter(validloader))\n",
    "plt.imshow(transforms.ToPILImage()(sample['image'][0]))\n",
    "plt.show()"
   ]
  },
  {
   "cell_type": "code",
   "execution_count": 16,
   "id": "25dbc767",
   "metadata": {},
   "outputs": [
    {
     "data": {
      "text/plain": [
       "SpeedDetector(\n",
       "  (conv1): Conv2d(3, 6, kernel_size=(3, 3), stride=(1, 1))\n",
       "  (norm1): BatchNorm2d(6, eps=1e-05, momentum=0.1, affine=True, track_running_stats=True)\n",
       "  (conv2): Conv2d(6, 12, kernel_size=(8, 8), stride=(1, 1))\n",
       "  (norm2): BatchNorm2d(12, eps=1e-05, momentum=0.1, affine=True, track_running_stats=True)\n",
       "  (conv3): Conv2d(12, 24, kernel_size=(7, 7), stride=(1, 1))\n",
       "  (norm3): BatchNorm2d(24, eps=1e-05, momentum=0.1, affine=True, track_running_stats=True)\n",
       "  (conv4): Conv2d(24, 36, kernel_size=(4, 4), stride=(1, 1))\n",
       "  (norm4): BatchNorm2d(36, eps=1e-05, momentum=0.1, affine=True, track_running_stats=True)\n",
       "  (relu): ReLU()\n",
       "  (pool): AvgPool2d(kernel_size=2, stride=2, padding=0)\n",
       "  (dropout): Dropout(p=0.5, inplace=False)\n",
       "  (fc1): Linear(in_features=4680, out_features=64, bias=True)\n",
       "  (fc2): Linear(in_features=64, out_features=64, bias=True)\n",
       "  (fc3): Linear(in_features=64, out_features=1, bias=True)\n",
       ")"
      ]
     },
     "execution_count": 16,
     "metadata": {},
     "output_type": "execute_result"
    }
   ],
   "source": [
    "checkpoint = torch.load('../checkpoints/checkpoint.pt')\n",
    "loaded_model = SpeedDetector(hidden_size=64)\n",
    "loaded_model.load_state_dict(checkpoint['model_state_dict'])\n",
    "loaded_model.cpu().eval()"
   ]
  },
  {
   "cell_type": "code",
   "execution_count": 17,
   "id": "991edef8",
   "metadata": {},
   "outputs": [],
   "source": [
    "predictions_ = pd.DataFrame([        \n",
    "    sample['label'].view(1, -1).numpy()[0],\n",
    "    loaded_model.predict(sample['image'].cpu()).view(1, -1).numpy()[0]\n",
    "], index=['t', 'p'])"
   ]
  },
  {
   "cell_type": "code",
   "execution_count": 18,
   "id": "58326805",
   "metadata": {},
   "outputs": [
    {
     "data": {
      "text/plain": [
       "<AxesSubplot:>"
      ]
     },
     "execution_count": 18,
     "metadata": {},
     "output_type": "execute_result"
    },
    {
     "data": {
      "image/png": "[encoded data removed]",
      "text/plain": [
       "<Figure size 432x288 with 1 Axes>"
      ]
     },
     "metadata": {
      "needs_background": "light"
     },
     "output_type": "display_data"
    }
   ],
   "source": [
    "predictions = pd.DataFrame(dataset.scaler.inverse_transform(predictions_),\n",
    "                          index=['t', 'p']).T\n",
    "predictions.plot()"
   ]
  },
  {
   "cell_type": "code",
   "execution_count": 13,
   "id": "9867badd",
   "metadata": {},
   "outputs": [],
   "source": [
    "from sklearn.metrics import mean_squared_error\n",
    "\n",
    "rmse = mean_squared_error(predictions.t, predictions.p) ** 0.5"
   ]
  },
  {
   "cell_type": "code",
   "execution_count": 20,
   "id": "ce27f0e6",
   "metadata": {},
   "outputs": [],
   "source": [
    "labels = pd.read_csv('../data/labels/train.txt')"
   ]
  },
  {
   "cell_type": "code",
   "execution_count": 32,
   "id": "491aa044",
   "metadata": {},
   "outputs": [
    {
     "data": {
      "text/plain": [
       "array([28.105569])"
      ]
     },
     "execution_count": 32,
     "metadata": {},
     "output_type": "execute_result"
    }
   ],
   "source": [
    "labels.values[0]"
   ]
  },
  {
   "cell_type": "code",
   "execution_count": null,
   "id": "d846724b",
   "metadata": {},
   "outputs": [
    {
     "name": "stderr",
     "output_type": "stream",
     "text": [
      "7it [00:00, 67.25it/s]"
     ]
    },
    {
     "name": "stdout",
     "output_type": "stream",
     "text": [
      "[15.128569] [28.105569]\n",
      "[8.08445] [28.106527]\n",
      "[10.31377] [28.130404]\n",
      "[15.157763] [28.109243]\n",
      "[14.315247] [28.088572]\n",
      "[14.2374935] [28.034211]\n",
      "[15.04752] [28.018491]\n",
      "[19.523945] [27.986624]\n",
      "[22.645071] [28.016352]\n",
      "[22.796406] [27.981986]\n",
      "[24.451565] [27.978625]\n",
      "[21.636374] [28.032331]\n",
      "[22.2797] [27.960219]\n",
      "[21.980164] [27.937178]\n",
      "[23.971113] [27.940599]\n",
      "[15.951873] [27.908579]\n",
      "[24.256617] [27.898606]\n",
      "[25.477442] [27.855982]\n"
     ]
    },
    {
     "name": "stderr",
     "output_type": "stream",
     "text": [
      "35it [00:00, 121.20it/s]"
     ]
    },
    {
     "name": "stdout",
     "output_type": "stream",
     "text": [
      "[24.201492] [27.795581]\n",
      "[23.132774] [27.850634]\n",
      "[24.200912] [27.839349]\n",
      "[24.198072] [27.824348]\n",
      "[25.498602] [27.759608]\n",
      "[27.193314] [27.830055]\n",
      "[24.32922] [27.761886]\n",
      "[24.955305] [27.694763]\n",
      "[18.381838] [27.761203]\n",
      "[25.566355] [27.691932]\n",
      "[24.351341] [27.666086]\n",
      "[25.5532] [27.723912]\n",
      "[26.856682] [27.639469]\n",
      "[25.976229] [27.612874]\n",
      "[27.921495] [27.638534]\n",
      "[22.919333] [27.606098]\n",
      "[27.195576] [27.593209]\n",
      "[24.94813] [27.573926]\n",
      "[26.8373] [27.561151]\n",
      "[18.860739] [27.559232]\n",
      "[26.213667] [27.528067]\n",
      "[24.597998] [27.522542]\n",
      "[25.568478] [27.531058]\n",
      "[27.722277] [27.493015]\n",
      "[26.374006] [27.487706]\n"
     ]
    },
    {
     "name": "stderr",
     "output_type": "stream",
     "text": [
      "61it [00:00, 125.58it/s]"
     ]
    },
    {
     "name": "stdout",
     "output_type": "stream",
     "text": [
      "[26.88736] [27.440943]\n",
      "[25.030813] [27.439646]\n",
      "[26.871456] [27.412907]\n",
      "[26.58852] [27.401744]\n",
      "[24.710985] [27.396007]\n",
      "[19.389587] [27.35751]\n",
      "[24.149033] [27.365647]\n",
      "[22.83421] [27.347638]\n",
      "[23.13145] [27.302128]\n",
      "[23.919107] [27.309836]\n",
      "[23.301266] [27.266277]\n",
      "[25.785658] [27.266066]\n",
      "[25.588224] [27.238097]\n",
      "[24.714205] [27.239031]\n",
      "[25.545427] [27.227439]\n",
      "[25.767738] [27.209839]\n",
      "[18.479425] [27.224821]\n",
      "[24.311829] [27.181666]\n",
      "[25.116928] [27.170096]\n",
      "[23.479498] [27.15459]\n",
      "[24.073467] [27.104113]\n",
      "[24.053402] [27.081358]\n",
      "[24.169527] [27.071874]\n",
      "[27.070105] [27.073267]\n"
     ]
    },
    {
     "name": "stderr",
     "output_type": "stream",
     "text": [
      "89it [00:00, 132.30it/s]"
     ]
    },
    {
     "name": "stdout",
     "output_type": "stream",
     "text": [
      "[25.020197] [27.039336]\n",
      "[20.506735] [27.041493]\n",
      "[23.273167] [27.018145]\n",
      "[14.76192] [27.009551]\n",
      "[23.14234] [26.996247]\n",
      "[21.702032] [26.954839]\n",
      "[21.680838] [26.968576]\n",
      "[23.716747] [26.913075]\n",
      "[24.934553] [26.903469]\n",
      "[22.051098] [26.908829]\n",
      "[23.668419] [26.860309]\n",
      "[22.686758] [26.86931]\n",
      "[23.216139] [26.870268]\n",
      "[21.918947] [26.836196]\n",
      "[19.2621] [26.836415]\n",
      "[22.215065] [26.843831]\n",
      "[22.837154] [26.775542]\n",
      "[24.118155] [26.732431]\n",
      "[24.31698] [26.730095]\n",
      "[22.602667] [26.73078]\n",
      "[23.896353] [26.708966]\n",
      "[23.431725] [26.692341]\n",
      "[24.262247] [26.690703]\n",
      "[23.068316] [26.646072]\n",
      "[21.383337] [26.644104]\n",
      "[16.5429] [26.627146]\n"
     ]
    },
    {
     "name": "stderr",
     "output_type": "stream",
     "text": [
      "117it [00:00, 134.42it/s]"
     ]
    },
    {
     "name": "stdout",
     "output_type": "stream",
     "text": [
      "[24.769775] [26.569781]\n",
      "[23.102364] [26.564525]\n",
      "[19.857111] [26.577363]\n",
      "[24.095049] [26.535204]\n",
      "[23.319656] [26.541647]\n",
      "[24.622856] [26.529513]\n",
      "[25.975338] [26.501939]\n",
      "[22.232328] [26.50846]\n",
      "[22.79294] [26.456369]\n",
      "[22.878654] [26.460903]\n",
      "[19.221834] [26.447106]\n",
      "[24.373156] [26.444679]\n",
      "[23.540422] [26.432169]\n",
      "[25.01008] [26.348981]\n",
      "[24.80883] [26.368428]\n",
      "[24.344946] [26.328696]\n",
      "[24.353437] [26.287243]\n",
      "[23.303005] [26.286672]\n",
      "[25.16988] [26.273133]\n",
      "[26.282675] [26.258781]\n",
      "[25.9629] [26.26402]\n",
      "[13.9713955] [26.216485]\n",
      "[14.515723] [26.229105]\n",
      "[24.628712] [26.205432]\n",
      "[26.122452] [26.184952]\n",
      "[24.443861] [26.187712]\n"
     ]
    },
    {
     "name": "stderr",
     "output_type": "stream",
     "text": [
      "\r",
      "131it [00:01, 132.06it/s]"
     ]
    },
    {
     "name": "stdout",
     "output_type": "stream",
     "text": [
      "[24.769537] [26.163657]\n",
      "[25.092093] [26.115078]\n",
      "[26.04625] [26.115793]\n",
      "[23.95954] [26.106916]\n",
      "[25.810434] [26.093713]\n",
      "[24.52699] [26.026723]\n",
      "[23.989038] [26.059682]\n",
      "[18.443317] [26.043513]\n",
      "[20.594809] [26.026975]\n",
      "[23.628828] [26.036413]\n",
      "[23.341436] [25.985965]\n",
      "[24.346096] [25.882752]\n",
      "[23.532257] [25.848527]\n",
      "[24.46401] [25.92309]\n",
      "[23.148544] [25.898218]\n",
      "[25.569494] [25.936657]\n",
      "[24.080177] [25.889446]\n",
      "[25.183634] [25.881018]\n",
      "[18.715763] [25.883611]\n",
      "[26.23451] [25.838685]\n",
      "[24.89693] [25.837266]\n",
      "[23.919056] [25.76013]\n",
      "[25.954338] [25.72661]\n"
     ]
    },
    {
     "name": "stderr",
     "output_type": "stream",
     "text": [
      "159it [00:01, 129.54it/s]"
     ]
    },
    {
     "name": "stdout",
     "output_type": "stream",
     "text": [
      "[26.301407] [25.705029]\n",
      "[26.645735] [25.69282]\n",
      "[24.902723] [25.694555]\n",
      "[24.52532] [25.715744]\n",
      "[25.276129] [25.721072]\n",
      "[24.7891] [25.71009]\n",
      "[20.820086] [25.675076]\n",
      "[24.7961] [25.690365]\n",
      "[24.742983] [25.659273]\n",
      "[22.806713] [25.588452]\n",
      "[24.00926] [25.587607]\n",
      "[26.859356] [25.605106]\n",
      "[26.060093] [25.546981]\n",
      "[23.603619] [25.561611]\n",
      "[24.456743] [25.520048]\n",
      "[24.732208] [25.512851]\n",
      "[24.151423] [25.535949]\n",
      "[19.184675] [25.466815]\n",
      "[24.609749] [25.468195]\n",
      "[22.333479] [25.442955]\n",
      "[24.501125] [25.43467]\n",
      "[24.35892] [25.415651]\n",
      "[22.055717] [25.376169]\n",
      "[22.269955] [25.380297]\n"
     ]
    },
    {
     "name": "stderr",
     "output_type": "stream",
     "text": [
      "186it [00:01, 131.20it/s]"
     ]
    },
    {
     "name": "stdout",
     "output_type": "stream",
     "text": [
      "[23.724472] [25.31671]\n",
      "[22.362564] [25.308004]\n",
      "[23.365938] [25.307879]\n",
      "[23.176418] [25.25791]\n",
      "[16.98213] [25.234153]\n",
      "[20.90404] [25.234548]\n",
      "[23.0883] [25.16456]\n",
      "[24.14553] [25.155528]\n",
      "[24.03743] [25.124563]\n",
      "[21.220327] [25.05188]\n",
      "[24.29818] [25.069608]\n",
      "[23.745945] [24.984767]\n",
      "[24.002962] [24.967705]\n",
      "[22.214035] [24.989188]\n",
      "[24.112484] [24.92012]\n",
      "[21.631329] [24.878731]\n",
      "[23.654915] [24.78153]\n",
      "[23.52416] [24.813369]\n",
      "[24.25035] [24.765025]\n",
      "[25.463306] [24.703236]\n",
      "[19.581923] [24.719001]\n",
      "[25.953089] [24.616928]\n",
      "[22.170458] [24.599527]\n",
      "[22.485107] [24.583681]\n",
      "[25.27733] [24.478286]\n"
     ]
    },
    {
     "name": "stderr",
     "output_type": "stream",
     "text": [
      "214it [00:01, 132.42it/s]"
     ]
    },
    {
     "name": "stdout",
     "output_type": "stream",
     "text": [
      "[22.124887] [24.44661]\n",
      "[20.297235] [24.425899]\n",
      "[21.513838] [24.334192]\n",
      "[19.59746] [24.277394]\n",
      "[23.329348] [24.243752]\n",
      "[22.68145] [24.166103]\n",
      "[22.868874] [24.169954]\n",
      "[22.269186] [24.066184]\n",
      "[23.133175] [24.031755]\n",
      "[22.638327] [24.00579]\n",
      "[22.989283] [23.927473]\n",
      "[23.110346] [23.890764]\n",
      "[18.635498] [23.798889]\n",
      "[21.36356] [23.841604]\n",
      "[22.699888] [23.759881]\n",
      "[23.304115] [23.71539]\n",
      "[22.806637] [23.748295]\n",
      "[21.504663] [23.647204]\n",
      "[22.444672] [23.596707]\n",
      "[22.91076] [23.584715]\n",
      "[22.458244] [23.55405]\n",
      "[21.114151] [23.472504]\n",
      "[23.679657] [23.504016]\n",
      "[16.54687] [23.379037]\n",
      "[22.119808] [23.358512]\n"
     ]
    },
    {
     "name": "stderr",
     "output_type": "stream",
     "text": [
      "\r",
      "228it [00:01, 130.78it/s]"
     ]
    },
    {
     "name": "stdout",
     "output_type": "stream",
     "text": [
      "[23.038954] [23.260696]\n",
      "[21.231834] [23.247885]\n",
      "[24.08863] [23.215724]\n",
      "[20.792532] [23.145633]\n",
      "[23.272072] [23.102612]\n",
      "[21.584425] [23.045069]\n",
      "[24.661942] [23.051338]\n",
      "[21.873869] [23.015295]\n",
      "[21.415976] [22.881877]\n",
      "[14.229634] [22.915834]\n",
      "[15.348648] [22.857471]\n",
      "[23.46404] [22.757829]\n",
      "[21.552298] [22.801015]\n",
      "[20.530415] [22.703557]\n",
      "[22.032974] [22.632107]\n",
      "[22.008045] [22.650746]\n",
      "[21.848318] [22.539414]\n",
      "[20.793213] [22.495062]\n",
      "[21.812979] [22.497131]\n",
      "[22.928507] [22.412535]\n",
      "[20.341496] [22.305346]\n",
      "[16.04149] [22.266352]\n",
      "[20.538801] [22.274608]\n",
      "[20.969687] [22.213149]\n"
     ]
    },
    {
     "name": "stderr",
     "output_type": "stream",
     "text": [
      "256it [00:01, 131.20it/s]"
     ]
    },
    {
     "name": "stdout",
     "output_type": "stream",
     "text": [
      "[21.717957] [22.111782]\n",
      "[21.947119] [22.098621]\n",
      "[20.578568] [22.023265]\n",
      "[21.143404] [21.9876]\n",
      "[20.837908] [21.96738]\n",
      "[21.35835] [21.867499]\n",
      "[22.511831] [21.878563]\n",
      "[18.85167] [21.830777]\n",
      "[16.568806] [21.724761]\n",
      "[19.71868] [21.720484]\n",
      "[21.139866] [21.682866]\n",
      "[21.367739] [21.565654]\n",
      "[20.550158] [21.630614]\n",
      "[19.830338] [21.522918]\n",
      "[21.484913] [21.49305]\n",
      "[19.190449] [21.502722]\n",
      "[19.744984] [21.393423]\n",
      "[22.639292] [21.312005]\n",
      "[19.92127] [21.256784]\n",
      "[15.057231] [21.283194]\n",
      "[20.903334] [21.170907]\n",
      "[21.091326] [21.128252]\n",
      "[20.662775] [21.108952]\n",
      "[22.71171] [21.026714]\n",
      "[19.165594] [20.997039]\n"
     ]
    },
    {
     "name": "stderr",
     "output_type": "stream",
     "text": [
      "284it [00:02, 132.16it/s]"
     ]
    },
    {
     "name": "stdout",
     "output_type": "stream",
     "text": [
      "[23.064186] [21.006357]\n",
      "[21.523586] [20.969367]\n",
      "[19.629362] [20.944717]\n",
      "[19.92099] [20.942738]\n",
      "[18.65546] [20.863276]\n",
      "[17.410637] [20.872582]\n",
      "[18.081207] [20.858857]\n",
      "[19.677795] [20.820238]\n",
      "[18.237892] [20.823964]\n",
      "[19.646212] [20.751848]\n",
      "[18.900982] [20.723851]\n",
      "[20.108438] [20.729127]\n",
      "[16.63357] [20.679543]\n",
      "[19.09481] [20.582223]\n",
      "[16.313309] [20.543176]\n",
      "[20.868443] [20.562831]\n",
      "[16.656378] [20.485892]\n",
      "[18.432549] [20.365818]\n",
      "[20.327946] [20.3791]\n",
      "[19.915792] [20.319317]\n",
      "[18.51627] [20.222046]\n",
      "[20.196676] [20.281935]\n",
      "[20.00779] [20.160613]\n",
      "[20.078999] [20.137914]\n",
      "[19.122536] [20.138333]\n"
     ]
    },
    {
     "name": "stderr",
     "output_type": "stream",
     "text": [
      "312it [00:02, 133.84it/s]"
     ]
    },
    {
     "name": "stdout",
     "output_type": "stream",
     "text": [
      "[19.44247] [20.02506]\n",
      "[17.659512] [19.992256]\n",
      "[14.587908] [19.911347]\n",
      "[18.433416] [19.882995]\n",
      "[18.049425] [19.877321]\n",
      "[18.532526] [19.715738]\n",
      "[17.956715] [19.649489]\n",
      "[17.291311] [19.60541]\n",
      "[17.770033] [19.547851]\n",
      "[17.517763] [19.452522]\n",
      "[17.939955] [19.356058]\n",
      "[16.398281] [19.341933]\n",
      "[15.949743] [19.290832]\n",
      "[16.815197] [19.110332]\n",
      "[18.06666] [19.19085]\n",
      "[15.079645] [19.113866]\n",
      "[17.477201] [19.037851]\n",
      "[17.532764] [18.990706]\n",
      "[17.510942] [18.896681]\n",
      "[17.407202] [18.732623]\n",
      "[17.74802] [18.742782]\n",
      "[17.642733] [18.593645]\n",
      "[19.465494] [18.517665]\n",
      "[20.570198] [18.425153]\n",
      "[16.233866] [18.414805]\n"
     ]
    },
    {
     "name": "stderr",
     "output_type": "stream",
     "text": [
      "340it [00:02, 135.73it/s]"
     ]
    },
    {
     "name": "stdout",
     "output_type": "stream",
     "text": [
      "[17.237417] [18.345416]\n",
      "[17.13226] [18.296095]\n",
      "[16.48879] [18.280873]\n",
      "[15.7382] [18.215723]\n",
      "[18.874723] [18.199875]\n",
      "[18.836243] [18.170798]\n",
      "[19.692421] [18.120178]\n",
      "[18.216122] [18.114072]\n",
      "[20.249681] [18.101441]\n",
      "[19.639439] [18.026191]\n",
      "[17.841854] [18.033098]\n",
      "[17.9964] [17.985449]\n",
      "[18.84431] [17.974486]\n",
      "[18.387875] [17.978176]\n",
      "[18.518686] [17.926244]\n",
      "[18.928827] [17.895649]\n",
      "[18.832243] [17.904253]\n",
      "[19.544436] [17.900632]\n",
      "[18.013802] [17.870866]\n",
      "[17.965746] [17.906272]\n",
      "[17.265934] [17.91078]\n",
      "[14.749348] [17.885157]\n",
      "[16.136988] [17.870561]\n",
      "[18.192982] [17.859622]\n",
      "[16.725006] [17.83511]\n",
      "[18.284399] [17.82089]\n"
     ]
    },
    {
     "name": "stderr",
     "output_type": "stream",
     "text": [
      "\r",
      "354it [00:02, 136.87it/s]"
     ]
    },
    {
     "name": "stdout",
     "output_type": "stream",
     "text": [
      "[18.119665] [17.817578]\n",
      "[17.911045] [17.776329]\n",
      "[17.814894] [17.773368]\n",
      "[17.93351] [17.756399]\n",
      "[19.665255] [17.740411]\n",
      "[17.921282] [17.750502]\n",
      "[17.721558] [17.713229]\n",
      "[18.091967] [17.720286]\n",
      "[17.879179] [17.707938]\n",
      "[16.745539] [17.701258]\n",
      "[17.965252] [17.701865]\n",
      "[19.258137] [17.694371]\n",
      "[19.390736] [17.632586]\n",
      "[18.29253] [17.586225]\n",
      "[19.31913] [17.526406]\n",
      "[18.940495] [17.544085]\n",
      "[19.244633] [17.502712]\n",
      "[17.613745] [17.451329]\n",
      "[16.023434] [17.48443]\n",
      "[18.339434] [17.416052]\n",
      "[17.812067] [17.388921]\n",
      "[17.675192] [17.397132]\n",
      "[17.981358] [17.321062]\n",
      "[18.14876] [17.293555]\n",
      "[20.049416] [17.280179]\n"
     ]
    },
    {
     "name": "stderr",
     "output_type": "stream",
     "text": [
      "382it [00:02, 134.74it/s]"
     ]
    },
    {
     "name": "stdout",
     "output_type": "stream",
     "text": [
      "[16.473913] [17.215]\n",
      "[18.145319] [17.198205]\n",
      "[18.679482] [17.177024]\n",
      "[18.293032] [17.144791]\n",
      "[17.755548] [17.13578]\n",
      "[15.603649] [17.106082]\n",
      "[19.646694] [17.040895]\n",
      "[18.217817] [17.066623]\n",
      "[16.642572] [17.007221]\n",
      "[17.20708] [16.965812]\n",
      "[16.760612] [16.902998]\n",
      "[16.379898] [16.927943]\n",
      "[16.487509] [16.876896]\n",
      "[14.974246] [16.82764]\n",
      "[17.682798] [16.852029]\n",
      "[15.173395] [16.776187]\n",
      "[18.336445] [16.727212]\n",
      "[17.436129] [16.748829]\n",
      "[14.696564] [16.660815]\n",
      "[15.897408] [16.658419]\n",
      "[16.812073] [16.651665]\n",
      "[16.754248] [16.622098]\n",
      "[17.117445] [16.596606]\n",
      "[16.4616] [16.54733]\n",
      "[13.36499] [16.525286]\n",
      "[15.781901] [16.507766]\n"
     ]
    },
    {
     "name": "stderr",
     "output_type": "stream",
     "text": [
      "411it [00:03, 136.79it/s]"
     ]
    },
    {
     "name": "stdout",
     "output_type": "stream",
     "text": [
      "[15.680966] [16.454513]\n",
      "[16.671816] [16.436982]\n",
      "[16.677914] [16.428845]\n",
      "[15.781725] [16.363859]\n",
      "[17.340601] [16.348094]\n",
      "[14.355638] [16.282683]\n",
      "[17.528202] [16.296509]\n",
      "[17.514486] [16.271328]\n",
      "[17.726189] [16.174741]\n",
      "[16.182646] [16.214317]\n",
      "[17.534988] [16.157124]\n",
      "[15.370034] [16.102732]\n",
      "[15.1714325] [16.106655]\n",
      "[15.154423] [16.086453]\n",
      "[14.760566] [16.049456]\n",
      "[15.663319] [16.051216]\n",
      "[16.248682] [16.007865]\n",
      "[16.837296] [15.951593]\n",
      "[15.91398] [15.894406]\n",
      "[16.763557] [15.883973]\n",
      "[17.945448] [15.869272]\n",
      "[15.192306] [15.811602]\n",
      "[13.063173] [15.794933]\n",
      "[16.76781] [15.745741]\n",
      "[16.443693] [15.726425]\n",
      "[17.527533] [15.720598]\n"
     ]
    },
    {
     "name": "stderr",
     "output_type": "stream",
     "text": [
      "439it [00:03, 136.29it/s]"
     ]
    },
    {
     "name": "stdout",
     "output_type": "stream",
     "text": [
      "[16.685183] [15.675835]\n",
      "[16.404606] [15.673611]\n",
      "[14.795678] [15.655756]\n",
      "[14.391898] [15.627181]\n",
      "[14.64669] [15.646816]\n",
      "[13.004111] [15.602119]\n",
      "[16.634125] [15.579875]\n",
      "[15.408705] [15.594948]\n",
      "[17.194136] [15.577295]\n",
      "[16.77438] [15.555608]\n",
      "[15.808944] [15.61862]\n",
      "[16.38289] [15.596103]\n",
      "[16.248804] [15.598693]\n",
      "[15.194516] [15.638159]\n",
      "[13.921663] [15.65641]\n",
      "[15.219929] [15.578146]\n",
      "[14.659771] [15.531089]\n",
      "[14.510424] [15.530522]\n",
      "[16.260721] [15.542079]\n",
      "[16.297455] [15.542342]\n",
      "[15.850226] [15.529362]\n",
      "[14.313296] [15.544828]\n",
      "[16.00881] [15.548348]\n",
      "[16.65966] [15.545864]\n",
      "[17.889463] [15.558583]\n"
     ]
    },
    {
     "name": "stderr",
     "output_type": "stream",
     "text": [
      "468it [00:03, 138.42it/s]"
     ]
    },
    {
     "name": "stdout",
     "output_type": "stream",
     "text": [
      "[17.017916] [15.567834]\n",
      "[17.375982] [15.552205]\n",
      "[17.305532] [15.617641]\n",
      "[18.174353] [15.614487]\n",
      "[16.802593] [15.604403]\n",
      "[15.074062] [15.64943]\n",
      "[17.806274] [15.630264]\n",
      "[15.859858] [15.649289]\n",
      "[15.813859] [15.701191]\n",
      "[13.381197] [15.705422]\n",
      "[14.523827] [15.687132]\n",
      "[13.838956] [15.726955]\n",
      "[16.245213] [15.757108]\n",
      "[17.221983] [15.768657]\n",
      "[14.258994] [15.780862]\n",
      "[17.793003] [15.830419]\n",
      "[14.991132] [15.82317]\n",
      "[15.397389] [15.838748]\n",
      "[15.748482] [15.875624]\n",
      "[17.268648] [15.868013]\n",
      "[15.407713] [15.929014]\n",
      "[15.299853] [15.93642]\n",
      "[17.394417] [15.963043]\n",
      "[17.7485] [15.997256]\n",
      "[15.452469] [16.000294]\n",
      "[14.223137] [16.048715]\n"
     ]
    },
    {
     "name": "stderr",
     "output_type": "stream",
     "text": [
      "\r",
      "482it [00:03, 137.24it/s]"
     ]
    },
    {
     "name": "stdout",
     "output_type": "stream",
     "text": [
      "[13.596338] [16.071336]\n",
      "[16.341688] [16.073721]\n",
      "[16.573393] [16.103754]\n",
      "[15.977049] [16.145752]\n",
      "[17.043419] [16.162403]\n",
      "[13.580793] [16.159864]\n",
      "[16.590277] [16.178023]\n",
      "[14.334318] [16.236986]\n",
      "[15.69366] [16.22146]\n",
      "[17.111874] [16.217188]\n",
      "[16.412966] [16.278296]\n",
      "[16.552372] [16.2548]\n",
      "[16.848194] [16.298243]\n",
      "[16.84506] [16.339359]\n",
      "[18.82928] [16.321399]\n",
      "[17.326965] [16.359128]\n",
      "[18.07892] [16.382156]\n",
      "[19.825539] [16.423409]\n",
      "[17.957062] [16.417712]\n",
      "[17.585552] [16.443979]\n",
      "[17.119009] [16.460496]\n",
      "[17.520128] [16.451782]\n",
      "[16.85493] [16.457459]\n",
      "[16.874083] [16.487735]\n"
     ]
    },
    {
     "name": "stderr",
     "output_type": "stream",
     "text": [
      "510it [00:03, 128.28it/s]"
     ]
    },
    {
     "name": "stdout",
     "output_type": "stream",
     "text": [
      "[17.29469] [16.488839]\n",
      "[19.339472] [16.512347]\n",
      "[17.934532] [16.482478]\n",
      "[19.821854] [16.518075]\n",
      "[14.300738] [16.514661]\n",
      "[15.81914] [16.517764]\n",
      "[16.67832] [16.53188]\n",
      "[15.434863] [16.526951]\n",
      "[16.9175] [16.555249]\n",
      "[14.924094] [16.520121]\n",
      "[15.7784195] [16.548351]\n",
      "[19.767822] [16.556675]\n",
      "[18.06921] [16.538771]\n",
      "[15.528838] [16.568003]\n",
      "[17.201338] [16.54449]\n",
      "[17.99672] [16.535499]\n",
      "[17.89638] [16.561499]\n",
      "[16.628582] [16.54219]\n",
      "[16.597786] [16.543448]\n",
      "[18.456104] [16.557562]\n",
      "[17.026134] [16.566169]\n",
      "[16.427462] [16.556605]\n",
      "[14.327781] [16.570418]\n"
     ]
    },
    {
     "name": "stderr",
     "output_type": "stream",
     "text": [
      "538it [00:04, 126.40it/s]"
     ]
    },
    {
     "name": "stdout",
     "output_type": "stream",
     "text": [
      "[17.13884] [16.580516]\n",
      "[15.059753] [16.562177]\n",
      "[13.217635] [16.577028]\n",
      "[13.201716] [16.572893]\n",
      "[14.994555] [16.590643]\n",
      "[16.085373] [16.614449]\n",
      "[17.29876] [16.620514]\n",
      "[18.500086] [16.636675]\n",
      "[17.548105] [16.645457]\n",
      "[16.761168] [16.611129]\n",
      "[18.543926] [16.657846]\n",
      "[16.933285] [16.645958]\n",
      "[16.938417] [16.707041]\n",
      "[17.842398] [16.674124]\n",
      "[17.521791] [16.677512]\n",
      "[16.632366] [16.72172]\n",
      "[20.584995] [16.739936]\n",
      "[17.997126] [16.751187]\n",
      "[16.284807] [16.790234]\n",
      "[16.439325] [16.783236]\n",
      "[16.631464] [16.812558]\n",
      "[15.977074] [16.835089]\n",
      "[15.112764] [16.825195]\n"
     ]
    },
    {
     "name": "stderr",
     "output_type": "stream",
     "text": [
      "\r",
      "551it [00:04, 124.93it/s]"
     ]
    },
    {
     "name": "stdout",
     "output_type": "stream",
     "text": [
      "[19.277052] [16.837534]\n",
      "[16.165068] [16.843719]\n",
      "[17.518848] [16.860487]\n",
      "[19.254953] [16.87656]\n",
      "[17.161425] [16.884602]\n",
      "[16.150263] [16.913861]\n",
      "[17.368063] [16.92298]\n",
      "[13.834566] [16.896026]\n",
      "[16.163292] [16.974919]\n",
      "[18.536097] [16.964687]\n",
      "[16.093094] [17.006133]\n",
      "[15.087219] [16.97485]\n",
      "[16.835293] [17.015042]\n",
      "[17.687038] [17.026478]\n",
      "[16.731575] [17.023531]\n",
      "[16.561258] [17.050935]\n",
      "[16.870647] [17.062122]\n",
      "[16.489876] [17.063496]\n",
      "[15.92165] [17.118941]\n",
      "[16.060413] [17.116624]\n",
      "[17.39361] [17.11207]\n",
      "[18.857265] [17.14581]\n",
      "[16.924593] [17.159537]\n",
      "[17.349869] [17.154466]\n"
     ]
    },
    {
     "name": "stderr",
     "output_type": "stream",
     "text": [
      "577it [00:04, 127.34it/s]"
     ]
    },
    {
     "name": "stdout",
     "output_type": "stream",
     "text": [
      "[18.845871] [17.171054]\n",
      "[19.985243] [17.179673]\n",
      "[17.872929] [17.222761]\n",
      "[18.756893] [17.224564]\n",
      "[18.04983] [17.223354]\n",
      "[17.999844] [17.223373]\n",
      "[15.147062] [17.26071]\n",
      "[17.250168] [17.290239]\n",
      "[18.684958] [17.268331]\n",
      "[16.85355] [17.2535]\n",
      "[17.810604] [17.294589]\n",
      "[17.59402] [17.291935]\n",
      "[18.590021] [17.326415]\n",
      "[18.072472] [17.319426]\n",
      "[18.13437] [17.317434]\n",
      "[15.604915] [17.333616]\n",
      "[19.56587] [17.330645]\n",
      "[18.288164] [17.309512]\n",
      "[16.471539] [17.342974]\n",
      "[15.459112] [17.35345]\n",
      "[16.556221] [17.345175]\n",
      "[16.14484] [17.355721]\n",
      "[16.294844] [17.358381]\n",
      "[17.2095] [17.384412]\n"
     ]
    },
    {
     "name": "stderr",
     "output_type": "stream",
     "text": [
      "604it [00:04, 130.88it/s]"
     ]
    },
    {
     "name": "stdout",
     "output_type": "stream",
     "text": [
      "[14.944347] [17.37385]\n",
      "[16.979492] [17.37227]\n",
      "[17.138693] [17.370947]\n",
      "[18.008347] [17.378427]\n",
      "[19.549652] [17.375183]\n",
      "[14.675659] [17.373487]\n",
      "[16.9259] [17.378253]\n",
      "[17.957535] [17.392385]\n",
      "[15.020153] [17.373938]\n",
      "[18.012115] [17.381478]\n",
      "[17.250984] [17.376368]\n",
      "[14.836437] [17.385073]\n",
      "[17.18197] [17.37385]\n",
      "[16.196327] [17.381336]\n",
      "[19.677143] [17.377884]\n",
      "[17.685293] [17.380602]\n",
      "[14.864065] [17.383297]\n",
      "[16.406761] [17.387647]\n",
      "[17.306875] [17.385992]\n",
      "[14.398055] [17.38218]\n",
      "[19.476562] [17.372289]\n",
      "[17.549305] [17.382248]\n",
      "[15.783238] [17.375353]\n",
      "[19.03736] [17.390186]\n",
      "[14.937334] [17.379182]\n",
      "[16.295675] [17.38246]\n"
     ]
    },
    {
     "name": "stderr",
     "output_type": "stream",
     "text": [
      "632it [00:04, 134.29it/s]"
     ]
    },
    {
     "name": "stdout",
     "output_type": "stream",
     "text": [
      "[16.21252] [17.380332]\n",
      "[16.565256] [17.389412]\n",
      "[16.094112] [17.387074]\n",
      "[17.456554] [17.393268]\n",
      "[15.00624] [17.380472]\n",
      "[13.838431] [17.384893]\n",
      "[18.023502] [17.373103]\n",
      "[16.489004] [17.385309]\n",
      "[17.269194] [17.38307]\n",
      "[18.217558] [17.391201]\n",
      "[14.273125] [17.404724]\n",
      "[15.904277] [17.404062]\n",
      "[13.991755] [17.403852]\n",
      "[16.817665] [17.404158]\n",
      "[16.267597] [17.40633]\n",
      "[15.874503] [17.395276]\n",
      "[18.872507] [17.387772]\n",
      "[15.838433] [17.386512]\n",
      "[19.35364] [17.400358]\n",
      "[17.344439] [17.389369]\n",
      "[17.10415] [17.395267]\n",
      "[18.10608] [17.38702]\n",
      "[17.756102] [17.393792]\n",
      "[17.790493] [17.404562]\n",
      "[14.807181] [17.401751]\n"
     ]
    },
    {
     "name": "stderr",
     "output_type": "stream",
     "text": [
      "660it [00:05, 129.71it/s]"
     ]
    },
    {
     "name": "stdout",
     "output_type": "stream",
     "text": [
      "[15.654585] [17.395766]\n",
      "[16.644999] [17.406964]\n",
      "[18.295727] [17.386298]\n",
      "[16.495766] [17.420158]\n",
      "[16.252522] [17.474613]\n",
      "[17.643414] [17.446048]\n",
      "[16.355967] [17.445287]\n",
      "[17.66177] [17.527802]\n",
      "[15.402036] [17.494453]\n",
      "[17.776756] [17.542953]\n",
      "[18.351303] [17.521034]\n",
      "[16.512651] [17.546914]\n",
      "[15.963008] [17.555158]\n",
      "[17.61974] [17.604875]\n",
      "[18.684454] [17.675381]\n",
      "[15.831508] [17.663558]\n",
      "[17.332638] [17.700915]\n",
      "[16.122742] [17.767309]\n",
      "[16.70054] [17.745582]\n",
      "[17.471977] [17.786492]\n",
      "[16.145233] [17.821049]\n",
      "[17.191729] [17.890929]\n",
      "[16.937239] [17.963418]\n",
      "[14.366989] [17.976169]\n"
     ]
    },
    {
     "name": "stderr",
     "output_type": "stream",
     "text": [
      "\r",
      "674it [00:05, 128.57it/s]"
     ]
    },
    {
     "name": "stdout",
     "output_type": "stream",
     "text": [
      "[18.012068] [18.0802]\n",
      "[15.824172] [18.066455]\n",
      "[17.801003] [18.119991]\n",
      "[16.417423] [18.188557]\n",
      "[15.563016] [18.266248]\n",
      "[17.91985] [18.341597]\n",
      "[16.704231] [18.327987]\n",
      "[16.103691] [18.392398]\n",
      "[16.46702] [18.497652]\n",
      "[18.955055] [18.488852]\n",
      "[16.302557] [18.548176]\n",
      "[18.586317] [18.66342]\n",
      "[17.803087] [18.656165]\n",
      "[16.438448] [18.717218]\n",
      "[18.954065] [18.847604]\n",
      "[18.527075] [18.802266]\n",
      "[17.105986] [18.887023]\n",
      "[18.399387] [18.991404]\n",
      "[19.476994] [19.059908]\n",
      "[19.29941] [19.077223]\n",
      "[18.580873] [19.112356]\n",
      "[19.600471] [19.221734]\n",
      "[18.351826] [19.216901]\n"
     ]
    },
    {
     "name": "stderr",
     "output_type": "stream",
     "text": [
      "700it [00:05, 124.34it/s]"
     ]
    },
    {
     "name": "stdout",
     "output_type": "stream",
     "text": [
      "[19.64179] [19.268927]\n",
      "[19.469858] [19.404083]\n",
      "[17.417519] [19.401162]\n",
      "[18.77644] [19.485605]\n",
      "[19.985207] [19.508945]\n",
      "[20.429043] [19.542924]\n",
      "[17.580544] [19.660117]\n",
      "[21.358198] [19.668178]\n",
      "[21.843464] [19.723249]\n",
      "[17.095238] [19.772587]\n",
      "[20.170721] [19.758959]\n",
      "[18.938494] [19.868049]\n",
      "[20.080091] [19.912902]\n",
      "[19.047411] [19.904911]\n",
      "[17.68271] [19.980942]\n",
      "[18.867907] [20.033577]\n",
      "[19.351902] [19.978869]\n",
      "[18.579542] [19.984424]\n",
      "[18.23166] [20.049583]\n",
      "[18.303701] [20.179338]\n",
      "[18.60067] [20.199063]\n",
      "[19.417116] [20.194065]\n",
      "[20.321026] [20.241186]\n"
     ]
    },
    {
     "name": "stderr",
     "output_type": "stream",
     "text": [
      "728it [00:05, 129.79it/s]"
     ]
    },
    {
     "name": "stdout",
     "output_type": "stream",
     "text": [
      "[19.557129] [20.231926]\n",
      "[18.844486] [20.245507]\n",
      "[20.758509] [20.281187]\n",
      "[17.96675] [20.286342]\n",
      "[21.323698] [20.3473]\n",
      "[20.233347] [20.353191]\n",
      "[18.170843] [20.369883]\n",
      "[19.805216] [20.413796]\n",
      "[20.967934] [20.41612]\n",
      "[20.520784] [20.467355]\n",
      "[20.686178] [20.479317]\n",
      "[20.963217] [20.484872]\n",
      "[21.258865] [20.56655]\n",
      "[21.526007] [20.579292]\n",
      "[20.28332] [20.624977]\n",
      "[20.643291] [20.630964]\n",
      "[21.567287] [20.660393]\n",
      "[16.776705] [20.713403]\n",
      "[21.5051] [20.682495]\n",
      "[20.312006] [20.770802]\n",
      "[19.113897] [20.784335]\n",
      "[20.089182] [20.762694]\n",
      "[19.895082] [20.856346]\n",
      "[20.851189] [20.871036]\n",
      "[20.32551] [20.886284]\n",
      "[19.185797] [20.94741]\n"
     ]
    },
    {
     "name": "stderr",
     "output_type": "stream",
     "text": [
      "756it [00:05, 133.18it/s]"
     ]
    },
    {
     "name": "stdout",
     "output_type": "stream",
     "text": [
      "[20.197493] [20.965967]\n",
      "[18.614222] [20.960698]\n",
      "[17.957216] [21.022418]\n",
      "[19.196917] [21.05633]\n",
      "[21.019287] [21.100131]\n",
      "[19.421314] [21.127199]\n",
      "[19.987349] [21.133818]\n",
      "[20.770708] [21.182492]\n",
      "[20.742521] [21.213268]\n",
      "[17.761068] [21.281692]\n",
      "[17.719282] [21.2928]\n",
      "[20.08422] [21.321235]\n",
      "[19.461277] [21.381613]\n",
      "[16.476078] [21.364435]\n",
      "[20.792688] [21.384668]\n",
      "[20.410192] [21.446207]\n",
      "[20.182632] [21.434238]\n",
      "[20.728064] [21.495466]\n",
      "[19.731955] [21.519578]\n",
      "[19.653063] [21.513832]\n",
      "[21.684517] [21.578462]\n",
      "[18.512281] [21.636775]\n",
      "[22.38455] [21.651084]\n",
      "[20.222816] [21.664355]\n",
      "[18.077526] [21.691847]\n"
     ]
    },
    {
     "name": "stderr",
     "output_type": "stream",
     "text": [
      "\r",
      "770it [00:05, 132.05it/s]"
     ]
    },
    {
     "name": "stdout",
     "output_type": "stream",
     "text": [
      "[23.035143] [21.723532]\n",
      "[19.255362] [21.732517]\n",
      "[20.27928] [21.744673]\n",
      "[19.0512] [21.79298]\n",
      "[22.432821] [21.794875]\n",
      "[20.281395] [21.847403]\n",
      "[21.737785] [21.844628]\n",
      "[20.20538] [21.868172]\n",
      "[20.852325] [21.890881]\n",
      "[21.512247] [21.895057]\n",
      "[19.8467] [21.95187]\n",
      "[20.859552] [21.95463]\n",
      "[20.77473] [21.963172]\n",
      "[21.432219] [22.009935]\n",
      "[21.464619] [21.997005]\n",
      "[22.654959] [22.026124]\n",
      "[23.48748] [22.028198]\n",
      "[22.488384] [22.06463]\n",
      "[20.972458] [22.090806]\n",
      "[23.750664] [22.111534]\n",
      "[20.130013] [22.119714]\n",
      "[18.46305] [22.150058]\n",
      "[21.952063] [22.150303]\n",
      "[22.787056] [22.154248]\n"
     ]
    },
    {
     "name": "stderr",
     "output_type": "stream",
     "text": [
      "798it [00:06, 130.74it/s]"
     ]
    },
    {
     "name": "stdout",
     "output_type": "stream",
     "text": [
      "[22.639133] [22.185456]\n",
      "[22.88592] [22.16072]\n",
      "[21.927097] [22.133503]\n",
      "[21.884651] [22.179944]\n",
      "[22.078783] [22.183296]\n",
      "[23.420485] [22.176075]\n",
      "[24.51384] [22.157912]\n",
      "[21.229786] [22.172853]\n",
      "[22.26351] [22.185906]\n",
      "[18.20506] [22.165609]\n",
      "[22.485653] [22.110256]\n",
      "[20.800938] [21.974706]\n",
      "[20.380058] [22.04249]\n",
      "[23.226858] [22.143387]\n",
      "[20.125969] [22.13415]\n",
      "[22.745737] [22.120739]\n",
      "[22.635689] [22.112081]\n",
      "[23.031261] [22.130141]\n",
      "[21.974953] [22.070214]\n",
      "[20.272314] [22.059238]\n",
      "[19.265078] [22.084061]\n",
      "[20.107645] [22.038972]\n",
      "[21.987007] [22.032479]\n",
      "[20.906296] [22.024641]\n",
      "[21.084711] [22.004645]\n"
     ]
    },
    {
     "name": "stderr",
     "output_type": "stream",
     "text": [
      "826it [00:06, 132.22it/s]"
     ]
    },
    {
     "name": "stdout",
     "output_type": "stream",
     "text": [
      "[20.53476] [21.995104]\n",
      "[20.087355] [21.975219]\n",
      "[20.183674] [21.968397]\n",
      "[18.884884] [21.957021]\n",
      "[21.191082] [21.951919]\n",
      "[22.674437] [21.941105]\n",
      "[19.435875] [21.899646]\n",
      "[19.251429] [21.887786]\n",
      "[20.712196] [21.890198]\n",
      "[19.602634] [21.880123]\n",
      "[19.765371] [21.877367]\n",
      "[21.21725] [21.842335]\n",
      "[21.571539] [21.846909]\n",
      "[22.23235] [21.827529]\n",
      "[19.966589] [21.780539]\n",
      "[19.016554] [21.777415]\n",
      "[19.273575] [21.756327]\n",
      "[19.174316] [21.728845]\n",
      "[20.574993] [21.750761]\n",
      "[20.150509] [21.731858]\n",
      "[19.579763] [21.775942]\n",
      "[21.028652] [21.779082]\n",
      "[19.030155] [21.857261]\n",
      "[21.219236] [21.693483]\n",
      "[21.312872] [21.757597]\n"
     ]
    },
    {
     "name": "stderr",
     "output_type": "stream",
     "text": [
      "854it [00:06, 131.71it/s]"
     ]
    },
    {
     "name": "stdout",
     "output_type": "stream",
     "text": [
      "[22.231972] [21.744358]\n",
      "[20.384262] [21.691414]\n",
      "[21.083546] [21.708246]\n",
      "[20.445736] [21.696124]\n",
      "[20.75148] [21.697913]\n",
      "[19.805616] [21.718732]\n",
      "[20.563457] [21.741981]\n",
      "[20.70522] [21.7524]\n",
      "[18.897882] [21.707795]\n",
      "[22.469357] [21.691556]\n",
      "[22.038275] [21.660494]\n",
      "[20.420313] [21.656108]\n",
      "[21.722815] [21.653079]\n",
      "[19.52808] [21.631302]\n",
      "[18.61187] [21.658113]\n",
      "[21.305779] [21.542934]\n",
      "[19.76996] [21.531426]\n",
      "[21.231922] [21.434586]\n",
      "[18.009388] [21.636266]\n",
      "[20.681114] [21.470561]\n",
      "[20.625946] [21.401829]\n",
      "[19.883354] [21.408849]\n",
      "[21.853643] [21.364095]\n",
      "[18.991484] [21.285639]\n",
      "[21.294317] [21.294228]\n"
     ]
    },
    {
     "name": "stderr",
     "output_type": "stream",
     "text": [
      "882it [00:06, 132.74it/s]"
     ]
    },
    {
     "name": "stdout",
     "output_type": "stream",
     "text": [
      "[18.61047] [21.232377]\n",
      "[19.860807] [21.161466]\n",
      "[19.31939] [21.167644]\n",
      "[19.02004] [21.109949]\n",
      "[19.056381] [21.109535]\n",
      "[19.90713] [21.098881]\n",
      "[20.171778] [21.042339]\n",
      "[20.862179] [21.027883]\n",
      "[20.774338] [21.012418]\n",
      "[19.919264] [20.957779]\n",
      "[16.669676] [20.950802]\n",
      "[19.08717] [20.918166]\n",
      "[19.161171] [20.877443]\n",
      "[16.981346] [20.875444]\n",
      "[20.954136] [20.837615]\n",
      "[21.417147] [20.802633]\n",
      "[22.162146] [20.766658]\n",
      "[19.978668] [20.775571]\n",
      "[20.077374] [20.720248]\n",
      "[18.813856] [20.646631]\n",
      "[20.259195] [20.66488]\n",
      "[17.814428] [20.619196]\n",
      "[18.436033] [20.571331]\n",
      "[17.506916] [20.57342]\n",
      "[20.44568] [20.509491]\n"
     ]
    },
    {
     "name": "stderr",
     "output_type": "stream",
     "text": [
      "\r",
      "896it [00:06, 133.64it/s]"
     ]
    },
    {
     "name": "stdout",
     "output_type": "stream",
     "text": [
      "[21.228888] [20.486931]\n",
      "[20.997633] [20.489182]\n",
      "[19.312527] [20.421971]\n",
      "[19.115013] [20.408638]\n",
      "[16.618921] [20.389347]\n",
      "[19.56694] [20.305224]\n",
      "[16.540583] [20.287568]\n",
      "[16.598616] [20.221202]\n",
      "[14.937532] [20.180359]\n",
      "[19.116169] [20.180561]\n",
      "[17.268257] [20.122119]\n",
      "[20.597155] [20.091013]\n",
      "[21.320387] [20.032084]\n",
      "[20.232939] [20.035386]\n",
      "[18.661007] [19.986215]\n",
      "[16.237352] [19.938185]\n",
      "[16.998472] [19.940185]\n",
      "[19.351185] [19.916907]\n",
      "[18.025608] [19.841358]\n",
      "[18.1146] [19.857497]\n",
      "[19.532772] [19.807839]\n",
      "[16.195547] [19.772583]\n",
      "[17.606037] [19.78414]\n",
      "[21.62318] [19.705617]\n",
      "[19.761036] [19.669937]\n"
     ]
    },
    {
     "name": "stderr",
     "output_type": "stream",
     "text": [
      "924it [00:07, 135.01it/s]"
     ]
    },
    {
     "name": "stdout",
     "output_type": "stream",
     "text": [
      "[18.475397] [19.673858]\n",
      "[18.91481] [19.620901]\n",
      "[17.900051] [19.582017]\n",
      "[20.123587] [19.576981]\n",
      "[19.31367] [19.56716]\n",
      "[20.236994] [19.575363]\n",
      "[17.046518] [19.537763]\n",
      "[19.656221] [19.538367]\n",
      "[19.026663] [19.489541]\n",
      "[19.32953] [19.488438]\n",
      "[19.017624] [19.508223]\n",
      "[17.979853] [19.460758]\n",
      "[19.2949] [19.469585]\n",
      "[18.548578] [19.473684]\n",
      "[19.424576] [19.503794]\n",
      "[20.477894] [19.423075]\n",
      "[18.62657] [19.731978]\n",
      "[18.133263] [19.391733]\n",
      "[17.808443] [19.485415]\n",
      "[19.59053] [19.50505]\n",
      "[18.659313] [19.466073]\n",
      "[19.824041] [19.448496]\n",
      "[17.085287] [19.536367]\n",
      "[21.017046] [19.544338]\n",
      "[19.613281] [19.572134]\n"
     ]
    },
    {
     "name": "stderr",
     "output_type": "stream",
     "text": [
      "953it [00:07, 133.47it/s]"
     ]
    },
    {
     "name": "stdout",
     "output_type": "stream",
     "text": [
      "[18.547323] [19.574051]\n",
      "[19.960947] [19.590931]\n",
      "[19.345818] [19.642612]\n",
      "[15.915814] [19.637131]\n",
      "[19.683113] [19.718231]\n",
      "[18.36231] [19.719704]\n",
      "[21.084583] [19.707781]\n",
      "[19.247536] [19.656066]\n",
      "[17.333729] [19.610562]\n",
      "[20.617706] [19.707003]\n",
      "[21.049887] [19.692569]\n",
      "[19.009378] [19.706398]\n",
      "[20.840118] [19.707521]\n",
      "[19.952868] [19.707052]\n",
      "[17.12402] [19.711349]\n",
      "[20.820478] [19.691084]\n",
      "[21.78269] [19.709927]\n",
      "[19.417923] [19.7198]\n",
      "[19.697563] [19.676646]\n",
      "[19.002028] [19.648185]\n",
      "[20.211634] [19.639989]\n",
      "[17.120197] [19.617436]\n",
      "[20.789186] [19.615623]\n",
      "[19.421953] [19.501817]\n",
      "[19.86458] [19.51284]\n",
      "[16.830702] [19.630006]\n",
      "[18.076298] [19.615025]\n"
     ]
    },
    {
     "name": "stderr",
     "output_type": "stream",
     "text": [
      "982it [00:07, 136.17it/s]"
     ]
    },
    {
     "name": "stdout",
     "output_type": "stream",
     "text": [
      "[16.839487] [19.602411]\n",
      "[19.512745] [19.595238]\n",
      "[18.40282] [19.589521]\n",
      "[18.549047] [19.576323]\n",
      "[18.915619] [19.558886]\n",
      "[18.765432] [19.552265]\n",
      "[19.217407] [19.514556]\n",
      "[17.653584] [19.498942]\n",
      "[19.347816] [19.506677]\n",
      "[17.0392] [19.481728]\n",
      "[17.55455] [19.439272]\n",
      "[19.609297] [19.449107]\n",
      "[19.671467] [19.476671]\n",
      "[18.17414] [19.43925]\n",
      "[19.422861] [19.387434]\n",
      "[16.832443] [19.448008]\n",
      "[19.083815] [19.340736]\n",
      "[18.21128] [19.355403]\n",
      "[18.748075] [19.409536]\n",
      "[18.819654] [19.332919]\n",
      "[17.0435] [19.319279]\n",
      "[17.7442] [19.310142]\n",
      "[19.44186] [19.26787]\n",
      "[16.137777] [19.255579]\n",
      "[19.961739] [19.250697]\n",
      "[20.51757] [19.232944]\n"
     ]
    },
    {
     "name": "stderr",
     "output_type": "stream",
     "text": [
      "1010it [00:07, 137.60it/s]"
     ]
    },
    {
     "name": "stdout",
     "output_type": "stream",
     "text": [
      "[19.973845] [19.235826]\n",
      "[17.6219] [19.210624]\n",
      "[17.85079] [19.204876]\n",
      "[13.911186] [19.201124]\n",
      "[19.669024] [19.186164]\n",
      "[17.851152] [19.181885]\n",
      "[18.465164] [19.153731]\n",
      "[20.224617] [19.161453]\n",
      "[18.701118] [19.142429]\n",
      "[19.46047] [19.126864]\n",
      "[17.570854] [19.137174]\n",
      "[18.697264] [19.126665]\n",
      "[17.982847] [19.107243]\n",
      "[17.050877] [19.108832]\n",
      "[19.275126] [19.083503]\n",
      "[17.973707] [19.077721]\n",
      "[14.6068735] [19.074172]\n",
      "[17.420248] [19.094249]\n",
      "[18.266268] [19.25498]\n",
      "[18.903656] [19.24039]\n",
      "[19.320526] [19.075337]\n",
      "[17.672829] [19.092557]\n",
      "[18.69355] [19.069336]\n",
      "[18.1343] [19.076094]\n",
      "[17.66339] [19.056908]\n",
      "[18.11124] [19.093314]\n"
     ]
    },
    {
     "name": "stderr",
     "output_type": "stream",
     "text": [
      "\r",
      "1024it [00:07, 137.06it/s]"
     ]
    },
    {
     "name": "stdout",
     "output_type": "stream",
     "text": [
      "[20.149569] [19.093314]\n",
      "[19.277348] [19.09138]\n",
      "[15.767894] [19.100533]\n",
      "[18.385838] [19.093023]\n",
      "[18.742285] [19.098929]\n",
      "[20.285517] [19.103238]\n",
      "[20.226843] [19.120175]\n",
      "[21.388742] [19.144994]\n",
      "[20.481258] [19.134007]\n",
      "[19.544655] [19.153479]\n",
      "[20.437357] [19.159707]\n",
      "[20.577156] [19.156822]\n",
      "[18.063633] [19.167951]\n",
      "[18.082155] [19.173048]\n",
      "[18.163065] [19.181814]\n",
      "[18.937689] [19.192155]\n",
      "[18.765352] [19.193771]\n",
      "[19.748358] [19.190999]\n",
      "[16.899822] [19.192529]\n",
      "[18.740099] [19.183338]\n",
      "[18.10692] [19.195039]\n",
      "[19.80297] [19.20256]\n",
      "[19.517523] [19.199257]\n",
      "[20.687922] [19.197883]\n",
      "[16.877928] [19.197417]\n"
     ]
    },
    {
     "name": "stderr",
     "output_type": "stream",
     "text": [
      "1052it [00:07, 134.69it/s]"
     ]
    },
    {
     "name": "stdout",
     "output_type": "stream",
     "text": [
      "[18.9386] [19.207769]\n",
      "[18.923672] [19.201669]\n",
      "[18.044956] [19.192059]\n",
      "[20.378761] [19.180788]\n",
      "[13.628726] [19.200708]\n",
      "[18.077763] [19.156637]\n",
      "[15.318898] [19.158227]\n",
      "[18.150164] [19.1538]\n",
      "[16.656723] [19.140681]\n",
      "[17.465456] [19.089934]\n",
      "[18.186779] [19.109748]\n",
      "[18.157934] [19.006527]\n",
      "[19.52325] [19.011955]\n",
      "[19.13795] [19.115388]\n",
      "[19.564175] [19.117236]\n",
      "[16.852533] [19.030293]\n",
      "[19.511074] [19.043967]\n",
      "[18.311426] [19.028149]\n",
      "[19.45214] [18.98278]\n",
      "[19.311434] [19.00798]\n",
      "[21.01423] [18.986405]\n",
      "[16.304384] [18.957434]\n",
      "[20.922215] [18.957254]\n",
      "[19.764683] [18.948358]\n"
     ]
    },
    {
     "name": "stderr",
     "output_type": "stream",
     "text": [
      "1080it [00:08, 131.45it/s]"
     ]
    },
    {
     "name": "stdout",
     "output_type": "stream",
     "text": [
      "[18.16379] [18.920502]\n",
      "[17.792986] [18.906659]\n",
      "[17.861475] [18.887856]\n",
      "[20.438005] [18.877549]\n",
      "[16.754913] [18.863285]\n",
      "[17.553713] [18.843616]\n",
      "[18.1542] [18.822331]\n",
      "[16.187618] [18.79254]\n",
      "[14.929044] [18.793514]\n",
      "[18.054686] [18.774892]\n",
      "[17.373184] [18.743088]\n",
      "[17.536428] [18.730873]\n",
      "[19.159538] [18.737484]\n",
      "[19.706003] [18.695653]\n",
      "[19.927485] [18.689174]\n",
      "[17.851303] [18.654621]\n",
      "[15.384808] [18.614304]\n",
      "[16.903608] [18.629572]\n",
      "[19.206734] [18.566816]\n",
      "[15.19623] [18.505028]\n",
      "[18.755875] [18.498758]\n",
      "[16.45141] [18.455272]\n",
      "[19.032469] [18.436052]\n",
      "[17.627588] [18.369936]\n",
      "[18.41646] [18.348545]\n"
     ]
    },
    {
     "name": "stderr",
     "output_type": "stream",
     "text": [
      "1108it [00:08, 133.51it/s]"
     ]
    },
    {
     "name": "stdout",
     "output_type": "stream",
     "text": [
      "[18.034252] [18.330425]\n",
      "[16.791332] [18.255891]\n",
      "[16.167269] [18.232485]\n",
      "[16.72697] [18.16764]\n",
      "[18.715601] [18.17449]\n",
      "[14.820723] [18.136363]\n",
      "[18.55465] [18.09168]\n",
      "[17.414707] [18.105691]\n",
      "[17.080946] [18.05542]\n",
      "[15.118784] [17.998785]\n",
      "[17.064087] [18.022928]\n",
      "[16.795507] [17.942927]\n",
      "[17.928326] [17.884733]\n",
      "[14.99993] [17.899159]\n",
      "[16.094528] [17.854421]\n",
      "[17.5935] [17.801546]\n",
      "[15.01567] [17.830795]\n",
      "[15.457618] [17.780173]\n",
      "[19.309315] [17.742251]\n",
      "[17.243242] [17.680402]\n",
      "[18.166557] [17.668678]\n",
      "[17.258625] [17.642443]\n",
      "[18.403118] [17.567511]\n",
      "[16.451271] [17.559602]\n",
      "[17.64579] [17.503795]\n"
     ]
    },
    {
     "name": "stderr",
     "output_type": "stream",
     "text": [
      "1136it [00:08, 135.31it/s]"
     ]
    },
    {
     "name": "stdout",
     "output_type": "stream",
     "text": [
      "[18.757095] [17.480263]\n",
      "[17.626324] [17.45975]\n",
      "[6.1927996] [17.410684]\n",
      "[17.052513] [17.400979]\n",
      "[15.146566] [17.379249]\n",
      "[19.002064] [17.319708]\n",
      "[17.562155] [17.323487]\n",
      "[18.978508] [17.258018]\n",
      "[19.015278] [17.202123]\n",
      "[17.323347] [17.214819]\n",
      "[18.42412] [17.134787]\n",
      "[17.751894] [17.089173]\n",
      "[16.987537] [17.098649]\n",
      "[16.858976] [17.045216]\n",
      "[17.938257] [16.997632]\n",
      "[14.476813] [16.961583]\n",
      "[18.647068] [16.971201]\n",
      "[16.655195] [16.93447]\n",
      "[16.94711] [16.87689]\n",
      "[19.68865] [16.87884]\n",
      "[19.000284] [16.822218]\n",
      "[15.584873] [16.795712]\n",
      "[20.06793] [16.789815]\n",
      "[17.451244] [16.733541]\n",
      "[17.494188] [16.708597]\n",
      "[17.345982] [16.693367]\n"
     ]
    },
    {
     "name": "stderr",
     "output_type": "stream",
     "text": [
      "\r",
      "1150it [00:08, 136.15it/s]"
     ]
    },
    {
     "name": "stdout",
     "output_type": "stream",
     "text": [
      "[13.580813] [16.620283]\n",
      "[18.562752] [16.625936]\n",
      "[14.836139] [16.584023]\n",
      "[19.450613] [16.559412]\n",
      "[18.59117] [16.558313]\n",
      "[16.805855] [16.491617]\n",
      "[17.212225] [16.467201]\n",
      "[13.855921] [16.460646]\n",
      "[15.032611] [16.418141]\n",
      "[13.518051] [16.348105]\n",
      "[16.162683] [16.306847]\n",
      "[14.0950575] [16.322077]\n",
      "[14.9941845] [16.27126]\n",
      "[18.007818] [16.234307]\n",
      "[18.160944] [16.238691]\n",
      "[17.575686] [16.163889]\n",
      "[17.635443] [16.133089]\n",
      "[17.723402] [16.138143]\n",
      "[15.144942] [16.091599]\n",
      "[17.091612] [16.048686]\n",
      "[15.559959] [16.037327]\n",
      "[14.068795] [16.030293]\n",
      "[12.609751] [16.01313]\n",
      "[16.479027] [15.991969]\n",
      "[14.70703] [16.007792]\n"
     ]
    },
    {
     "name": "stderr",
     "output_type": "stream",
     "text": [
      "1178it [00:08, 133.71it/s]"
     ]
    },
    {
     "name": "stdout",
     "output_type": "stream",
     "text": [
      "[16.880587] [16.001308]\n",
      "[17.295454] [15.958237]\n",
      "[18.978859] [15.90517]\n",
      "[17.62578] [15.841104]\n",
      "[16.707771] [15.827779]\n",
      "[15.599392] [15.811102]\n",
      "[16.713062] [15.769536]\n",
      "[15.5940275] [15.76724]\n",
      "[12.233538] [15.759658]\n",
      "[17.576218] [15.736567]\n",
      "[16.89065] [15.754679]\n",
      "[15.977642] [15.708611]\n",
      "[15.386602] [15.699339]\n",
      "[15.573786] [15.721192]\n",
      "[18.1257] [15.705602]\n",
      "[17.85] [15.697927]\n",
      "[17.480652] [15.715579]\n",
      "[15.301336] [15.66233]\n",
      "[15.172616] [15.60829]\n",
      "[12.706969] [15.662796]\n",
      "[18.673216] [15.660925]\n",
      "[17.89737] [15.681227]\n",
      "[16.956104] [15.654086]\n",
      "[17.153767] [15.643886]\n",
      "[17.182829] [15.656587]\n"
     ]
    },
    {
     "name": "stderr",
     "output_type": "stream",
     "text": [
      "1206it [00:09, 132.13it/s]"
     ]
    },
    {
     "name": "stdout",
     "output_type": "stream",
     "text": [
      "[15.752107] [15.661688]\n",
      "[17.129402] [15.664369]\n",
      "[17.72585] [15.672836]\n",
      "[17.796997] [15.677906]\n",
      "[17.293419] [15.686597]\n",
      "[11.4671135] [15.683617]\n",
      "[17.150887] [15.686883]\n",
      "[19.018478] [15.727389]\n",
      "[17.711136] [15.721683]\n",
      "[18.618376] [15.721111]\n",
      "[15.674481] [15.764157]\n",
      "[16.253218] [15.766049]\n",
      "[18.265854] [15.773634]\n",
      "[16.825691] [15.776359]\n",
      "[16.825567] [15.805419]\n",
      "[17.442928] [15.827578]\n",
      "[12.061892] [15.830006]\n",
      "[16.337938] [15.828145]\n",
      "[15.5760765] [15.864455]\n",
      "[17.33259] [15.861175]\n",
      "[16.690569] [15.884527]\n",
      "[16.222498] [15.886562]\n",
      "[18.60353] [15.886641]\n",
      "[16.940615] [15.912515]\n"
     ]
    },
    {
     "name": "stderr",
     "output_type": "stream",
     "text": [
      "1234it [00:09, 133.29it/s]"
     ]
    },
    {
     "name": "stdout",
     "output_type": "stream",
     "text": [
      "[17.63287] [15.914071]\n",
      "[16.832855] [15.923108]\n",
      "[15.884413] [15.923576]\n",
      "[14.7097225] [15.925809]\n",
      "[17.45837] [15.938907]\n",
      "[18.854057] [15.942866]\n",
      "[17.286379] [15.940153]\n",
      "[17.909636] [15.972313]\n",
      "[17.71475] [15.960983]\n",
      "[16.077671] [15.953233]\n",
      "[17.803253] [15.954374]\n",
      "[17.48405] [15.962307]\n",
      "[17.125841] [15.944349]\n",
      "[18.178062] [15.954062]\n",
      "[15.348057] [15.95922]\n",
      "[13.948913] [15.931396]\n",
      "[18.701193] [15.949571]\n",
      "[17.27665] [15.942091]\n",
      "[17.3416] [15.908871]\n",
      "[16.983952] [15.933236]\n",
      "[17.549774] [15.923552]\n",
      "[16.612661] [15.915814]\n",
      "[16.517738] [15.903557]\n",
      "[19.146366] [15.861554]\n",
      "[18.967487] [15.86716]\n"
     ]
    },
    {
     "name": "stderr",
     "output_type": "stream",
     "text": [
      "\r",
      "1248it [00:09, 132.13it/s]"
     ]
    },
    {
     "name": "stdout",
     "output_type": "stream",
     "text": [
      "[18.643393] [15.851093]\n",
      "[14.145253] [15.822515]\n",
      "[18.273235] [15.826082]\n",
      "[17.058931] [15.794172]\n",
      "[17.768353] [15.783615]\n",
      "[18.522913] [15.779585]\n",
      "[16.712563] [15.753906]\n",
      "[19.401634] [15.72124]\n",
      "[15.967148] [15.664952]\n",
      "[17.39997] [15.683695]\n",
      "[18.199173] [15.653875]\n",
      "[13.056543] [15.61225]\n",
      "[13.618867] [15.623832]\n",
      "[15.864032] [15.588592]\n",
      "[15.978729] [15.532159]\n",
      "[17.791906] [15.561526]\n",
      "[14.570956] [15.492732]\n",
      "[15.706835] [15.491632]\n",
      "[17.84294] [15.503547]\n",
      "[19.54216] [15.451259]\n",
      "[16.009857] [15.43854]\n",
      "[18.456642] [15.375967]\n",
      "[17.393883] [15.368996]\n",
      "[15.705129] [15.367029]\n",
      "[16.681288] [15.309219]\n"
     ]
    },
    {
     "name": "stderr",
     "output_type": "stream",
     "text": [
      "1276it [00:09, 131.87it/s]"
     ]
    },
    {
     "name": "stdout",
     "output_type": "stream",
     "text": [
      "[16.8121] [15.290285]\n",
      "[16.90733] [15.225819]\n",
      "[18.575365] [15.235718]\n",
      "[16.646694] [15.193243]\n",
      "[19.05391] [14.951867]\n",
      "[14.277775] [15.04352]\n",
      "[17.515244] [15.057527]\n",
      "[18.186121] [15.141811]\n",
      "[17.484594] [15.223432]\n",
      "[14.386191] [15.094839]\n",
      "[16.629713] [14.941631]\n",
      "[15.965553] [14.862136]\n",
      "[18.075607] [15.040432]\n",
      "[16.58156] [14.86286]\n",
      "[16.243736] [14.901382]\n",
      "[14.862636] [14.858968]\n",
      "[15.589765] [14.798365]\n",
      "[14.349681] [14.75958]\n",
      "[15.829864] [14.751336]\n",
      "[16.266422] [14.717209]\n",
      "[15.020446] [14.648939]\n",
      "[17.405346] [14.631703]\n",
      "[16.491539] [14.577348]\n",
      "[15.41867] [14.566044]\n",
      "[17.66513] [14.552902]\n",
      "[14.872725] [14.505371]\n"
     ]
    },
    {
     "name": "stderr",
     "output_type": "stream",
     "text": [
      "1304it [00:09, 132.21it/s]"
     ]
    },
    {
     "name": "stdout",
     "output_type": "stream",
     "text": [
      "[14.294202] [14.498496]\n",
      "[14.293012] [14.448785]\n",
      "[12.981868] [14.399188]\n",
      "[15.132666] [14.395011]\n",
      "[13.561354] [14.356191]\n",
      "[15.59248] [14.302623]\n",
      "[14.390309] [14.300994]\n",
      "[12.487192] [14.258908]\n",
      "[14.011548] [14.22685]\n",
      "[14.978794] [14.23952]\n",
      "[13.330763] [14.190232]\n",
      "[13.55504] [14.147006]\n",
      "[11.367288] [14.052602]\n",
      "[13.087241] [14.078297]\n",
      "[13.792725] [14.016623]\n",
      "[12.944735] [14.035438]\n",
      "[14.887327] [14.007359]\n",
      "[15.261309] [13.992762]\n",
      "[17.252502] [13.982058]\n",
      "[14.243515] [13.9691]\n",
      "[12.804353] [13.945995]\n",
      "[15.275539] [13.957713]\n",
      "[15.017226] [13.941104]\n",
      "[15.124656] [13.832755]\n",
      "[15.122817] [13.814617]\n",
      "[12.832146] [13.834913]\n"
     ]
    },
    {
     "name": "stderr",
     "output_type": "stream",
     "text": [
      "1334it [00:10, 138.62it/s]"
     ]
    },
    {
     "name": "stdout",
     "output_type": "stream",
     "text": [
      "[16.885187] [13.753693]\n",
      "[12.800543] [13.75995]\n",
      "[15.590688] [13.740798]\n",
      "[13.627889] [13.713546]\n",
      "[13.781416] [13.720722]\n",
      "[16.086615] [13.68455]\n",
      "[16.642029] [13.670833]\n",
      "[15.652715] [13.629381]\n",
      "[13.036146] [13.632861]\n",
      "[11.29722] [13.628586]\n",
      "[13.614605] [13.583768]\n",
      "[13.289101] [13.597028]\n",
      "[14.983881] [13.584771]\n",
      "[14.817631] [13.559175]\n",
      "[15.6327095] [13.576098]\n",
      "[15.421882] [13.538226]\n",
      "[15.45987] [13.532788]\n",
      "[14.340783] [13.513638]\n",
      "[17.2164] [13.491511]\n",
      "[15.936811] [13.486963]\n",
      "[16.02334] [13.490902]\n",
      "[14.598722] [13.498217]\n",
      "[14.67988] [13.481809]\n",
      "[14.203765] [13.475678]\n",
      "[14.192872] [13.474122]\n",
      "[14.733498] [13.46736]\n",
      "[14.47593] [13.477114]\n"
     ]
    },
    {
     "name": "stderr",
     "output_type": "stream",
     "text": [
      "1362it [00:10, 138.68it/s]"
     ]
    },
    {
     "name": "stdout",
     "output_type": "stream",
     "text": [
      "[14.759275] [13.470077]\n",
      "[15.100889] [13.496755]\n",
      "[13.677721] [13.499601]\n",
      "[15.723397] [13.500569]\n",
      "[13.738872] [13.493756]\n",
      "[15.167432] [13.462126]\n",
      "[13.315658] [13.504544]\n",
      "[14.597763] [13.485088]\n",
      "[15.224596] [13.488426]\n",
      "[15.719472] [13.551841]\n",
      "[13.813296] [13.581159]\n",
      "[16.273357] [13.606956]\n",
      "[15.352183] [13.576893]\n",
      "[12.720667] [13.615079]\n",
      "[15.339021] [13.660578]\n",
      "[15.477808] [13.633056]\n",
      "[15.148562] [13.673723]\n",
      "[14.386155] [13.673352]\n",
      "[14.458816] [13.684294]\n",
      "[14.540703] [13.723654]\n",
      "[15.755524] [13.729253]\n",
      "[14.519182] [13.743057]\n",
      "[15.124286] [13.804873]\n",
      "[14.518599] [13.813105]\n",
      "[15.7119255] [13.812787]\n"
     ]
    },
    {
     "name": "stderr",
     "output_type": "stream",
     "text": [
      "\r",
      "1376it [00:10, 134.28it/s]"
     ]
    },
    {
     "name": "stdout",
     "output_type": "stream",
     "text": [
      "[13.851882] [13.861412]\n",
      "[15.757066] [13.858347]\n",
      "[14.461438] [13.869706]\n",
      "[13.6341715] [13.880622]\n",
      "[15.418605] [13.892146]\n",
      "[16.424107] [13.925454]\n",
      "[14.806543] [13.96667]\n",
      "[14.541449] [13.956958]\n",
      "[15.571504] [13.992301]\n",
      "[16.868242] [14.042584]\n",
      "[12.991575] [14.054938]\n",
      "[13.841794] [14.053981]\n",
      "[16.733284] [14.058798]\n",
      "[14.084459] [14.097991]\n",
      "[16.183973] [14.096582]\n",
      "[14.011002] [14.154273]\n",
      "[13.869759] [14.188145]\n",
      "[12.016768] [14.216292]\n",
      "[14.322033] [14.274236]\n",
      "[13.951196] [14.283581]\n",
      "[14.791565] [14.294652]\n",
      "[11.034099] [14.326763]\n",
      "[14.617733] [14.34293]\n",
      "[13.359755] [14.353262]\n"
     ]
    },
    {
     "name": "stderr",
     "output_type": "stream",
     "text": [
      "1404it [00:10, 131.45it/s]"
     ]
    },
    {
     "name": "stdout",
     "output_type": "stream",
     "text": [
      "[17.992552] [14.359858]\n",
      "[13.863352] [14.337528]\n",
      "[15.304986] [14.405835]\n",
      "[14.975947] [14.446907]\n",
      "[14.443129] [14.42775]\n",
      "[14.614462] [14.502147]\n",
      "[14.472055] [14.561092]\n",
      "[15.438208] [14.52604]\n",
      "[16.99517] [14.515721]\n",
      "[12.405387] [14.53826]\n",
      "[13.4756975] [14.544103]\n",
      "[14.844184] [14.525725]\n",
      "[15.378509] [14.642087]\n",
      "[14.219511] [14.681722]\n",
      "[16.418413] [14.665267]\n",
      "[14.714152] [14.679875]\n",
      "[15.555975] [14.700614]\n",
      "[14.59838] [14.694886]\n",
      "[14.627927] [14.704127]\n",
      "[14.76184] [14.709415]\n",
      "[14.788843] [14.737615]\n",
      "[14.999702] [14.710646]\n",
      "[15.0923605] [14.716204]\n",
      "[15.199656] [14.729012]\n"
     ]
    },
    {
     "name": "stderr",
     "output_type": "stream",
     "text": [
      "1433it [00:10, 133.47it/s]"
     ]
    },
    {
     "name": "stdout",
     "output_type": "stream",
     "text": [
      "[14.834714] [14.720624]\n",
      "[14.332969] [14.733146]\n",
      "[15.858389] [14.759412]\n",
      "[11.702533] [14.779613]\n",
      "[12.10199] [14.792895]\n",
      "[14.175452] [14.808867]\n",
      "[14.99819] [14.82588]\n",
      "[15.405116] [14.76268]\n",
      "[15.813538] [14.796612]\n",
      "[16.339289] [14.777738]\n",
      "[15.246348] [14.767566]\n",
      "[16.060272] [14.760712]\n",
      "[14.61179] [14.799176]\n",
      "[15.322554] [14.858953]\n",
      "[15.8335705] [14.830792]\n",
      "[15.060139] [14.872498]\n",
      "[14.585424] [14.891833]\n",
      "[15.43112] [14.919742]\n",
      "[15.180281] [14.903775]\n",
      "[15.405879] [14.902985]\n",
      "[15.261187] [14.895472]\n",
      "[14.4672785] [14.91081]\n",
      "[16.779074] [14.899125]\n",
      "[14.237216] [14.886579]\n",
      "[14.9860115] [14.919502]\n",
      "[15.033212] [14.941883]\n"
     ]
    },
    {
     "name": "stderr",
     "output_type": "stream",
     "text": [
      "1461it [00:11, 135.81it/s]"
     ]
    },
    {
     "name": "stdout",
     "output_type": "stream",
     "text": [
      "[14.848255] [14.97261]\n",
      "[15.670592] [14.985226]\n",
      "[15.402367] [14.986565]\n",
      "[17.78195] [14.999906]\n",
      "[17.612717] [14.978248]\n",
      "[17.110516] [15.029498]\n",
      "[16.362846] [15.014472]\n",
      "[17.454126] [15.008573]\n",
      "[14.387204] [15.047067]\n",
      "[14.496506] [15.040902]\n",
      "[16.86911] [15.052215]\n",
      "[16.963396] [15.041846]\n",
      "[19.304508] [15.07734]\n",
      "[17.130198] [15.093839]\n",
      "[18.076199] [15.11536]\n",
      "[17.486927] [15.148075]\n",
      "[17.525732] [15.158004]\n",
      "[17.590822] [15.189464]\n",
      "[17.279247] [15.207177]\n",
      "[13.790923] [15.212]\n",
      "[16.615677] [15.267675]\n",
      "[13.9527025] [15.272096]\n",
      "[13.835323] [15.289008]\n",
      "[15.986265] [15.316349]\n",
      "[15.103817] [15.307069]\n",
      "[16.090944] [15.323219]\n"
     ]
    },
    {
     "name": "stderr",
     "output_type": "stream",
     "text": [
      "\r",
      "1475it [00:11, 136.20it/s]"
     ]
    },
    {
     "name": "stdout",
     "output_type": "stream",
     "text": [
      "[14.606957] [15.347548]\n",
      "[16.831781] [15.330427]\n",
      "[13.466631] [15.368016]\n",
      "[16.15673] [15.389084]\n",
      "[16.634106] [15.37793]\n",
      "[14.293932] [15.427924]\n",
      "[15.219777] [15.472078]\n",
      "[19.237183] [15.491867]\n",
      "[16.441746] [15.483139]\n",
      "[18.188372] [15.505664]\n",
      "[16.161682] [15.539223]\n",
      "[17.410326] [15.527414]\n",
      "[14.209714] [15.55732]\n",
      "[18.217634] [15.599352]\n",
      "[15.388799] [15.598128]\n",
      "[16.077042] [15.610463]\n",
      "[15.75025] [15.618618]\n",
      "[17.28743] [15.62998]\n",
      "[17.605534] [15.637314]\n",
      "[17.620392] [15.646528]\n",
      "[17.482851] [15.645347]\n",
      "[17.05298] [15.683289]\n",
      "[17.735975] [15.684005]\n",
      "[17.085524] [15.700514]\n"
     ]
    },
    {
     "name": "stderr",
     "output_type": "stream",
     "text": [
      "1503it [00:11, 128.78it/s]"
     ]
    },
    {
     "name": "stdout",
     "output_type": "stream",
     "text": [
      "[16.963522] [15.720883]\n",
      "[16.887861] [15.718463]\n",
      "[17.883648] [15.765867]\n",
      "[14.964124] [15.788702]\n",
      "[16.669521] [15.823559]\n",
      "[15.286747] [15.809041]\n",
      "[17.778276] [15.839732]\n",
      "[15.443106] [15.895768]\n",
      "[16.22173] [15.861144]\n",
      "[16.534384] [15.856355]\n",
      "[15.916347] [15.864082]\n",
      "[16.493376] [15.853378]\n",
      "[14.424424] [15.870762]\n",
      "[16.119564] [15.911221]\n",
      "[15.444647] [15.907733]\n",
      "[15.749078] [15.979093]\n",
      "[14.948946] [16.009683]\n",
      "[16.69072] [16.048259]\n",
      "[14.383225] [16.053295]\n",
      "[16.869795] [16.043478]\n",
      "[16.704205] [16.090679]\n",
      "[16.636984] [16.089803]\n",
      "[17.693367] [16.093074]\n",
      "[17.140274] [16.117162]\n"
     ]
    },
    {
     "name": "stderr",
     "output_type": "stream",
     "text": [
      "1532it [00:11, 134.48it/s]"
     ]
    },
    {
     "name": "stdout",
     "output_type": "stream",
     "text": [
      "[15.576244] [16.138729]\n",
      "[16.172499] [16.170478]\n",
      "[16.871737] [16.162013]\n",
      "[15.064411] [16.217966]\n",
      "[17.323332] [16.228631]\n",
      "[16.904411] [16.225865]\n",
      "[15.978827] [16.262635]\n",
      "[16.444962] [16.301598]\n",
      "[17.283869] [16.281212]\n",
      "[13.336429] [16.295877]\n",
      "[15.985598] [16.350567]\n",
      "[16.175835] [16.315984]\n",
      "[17.138111] [16.362577]\n",
      "[14.127581] [16.419015]\n",
      "[15.698903] [16.440982]\n",
      "[18.032026] [16.434032]\n",
      "[14.029289] [16.462806]\n",
      "[16.108072] [16.477686]\n",
      "[15.887326] [16.489383]\n",
      "[15.978643] [16.531026]\n",
      "[16.566587] [16.566859]\n",
      "[16.818226] [16.546655]\n",
      "[18.702047] [16.538429]\n",
      "[16.793318] [16.534768]\n",
      "[16.398628] [16.561339]\n",
      "[17.087822] [16.621486]\n",
      "[17.610222] [16.629656]\n"
     ]
    },
    {
     "name": "stderr",
     "output_type": "stream",
     "text": [
      "1560it [00:11, 132.07it/s]"
     ]
    },
    {
     "name": "stdout",
     "output_type": "stream",
     "text": [
      "[17.04317] [16.648533]\n",
      "[15.911511] [16.673902]\n",
      "[16.815153] [16.674489]\n",
      "[16.377426] [16.702585]\n",
      "[16.294643] [16.720989]\n",
      "[16.97568] [16.710816]\n",
      "[16.854227] [16.748279]\n",
      "[15.348239] [16.758058]\n",
      "[17.303835] [16.786084]\n",
      "[18.084465] [16.773982]\n",
      "[19.0718] [16.794354]\n",
      "[17.916576] [16.835627]\n",
      "[19.303541] [16.832936]\n",
      "[18.861948] [16.870021]\n",
      "[19.186228] [16.890799]\n",
      "[17.154942] [16.889888]\n",
      "[19.525055] [16.891929]\n",
      "[18.486568] [16.866956]\n",
      "[13.931353] [16.878186]\n",
      "[15.565286] [16.900217]\n",
      "[19.018108] [16.910789]\n",
      "[19.400175] [16.927517]\n",
      "[18.687256] [17.019741]\n"
     ]
    },
    {
     "name": "stderr",
     "output_type": "stream",
     "text": [
      "\r",
      "1574it [00:11, 130.57it/s]"
     ]
    },
    {
     "name": "stdout",
     "output_type": "stream",
     "text": [
      "[16.15843] [17.007117]\n",
      "[17.988451] [17.03478]\n",
      "[17.073889] [17.036375]\n",
      "[16.13124] [17.040303]\n",
      "[17.6915] [17.055617]\n",
      "[16.311829] [17.076144]\n",
      "[16.554205] [17.087133]\n",
      "[16.978403] [17.084868]\n",
      "[17.034527] [17.110069]\n",
      "[17.46082] [17.150767]\n",
      "[18.226] [17.11433]\n",
      "[18.246822] [17.14368]\n",
      "[16.592659] [17.162725]\n",
      "[17.010899] [17.193019]\n",
      "[17.316837] [17.174969]\n",
      "[17.004538] [17.191436]\n",
      "[17.041243] [17.150452]\n",
      "[17.611334] [17.201632]\n",
      "[16.226315] [17.207156]\n",
      "[18.582737] [17.245096]\n",
      "[17.287355] [17.237641]\n",
      "[18.002953] [17.229801]\n",
      "[17.709017] [17.280027]\n",
      "[16.079004] [17.294676]\n"
     ]
    },
    {
     "name": "stderr",
     "output_type": "stream",
     "text": [
      "1601it [00:12, 128.50it/s]"
     ]
    },
    {
     "name": "stdout",
     "output_type": "stream",
     "text": [
      "[16.664595] [17.294589]\n",
      "[16.382708] [17.337856]\n",
      "[18.833803] [17.297413]\n",
      "[17.58008] [17.329617]\n",
      "[18.26356] [17.312487]\n",
      "[17.91232] [17.354497]\n",
      "[17.773537] [17.357881]\n",
      "[16.501793] [17.373836]\n",
      "[17.322508] [17.376715]\n",
      "[18.979696] [17.398021]\n",
      "[16.925133] [17.399944]\n",
      "[17.767618] [17.402114]\n",
      "[18.55573] [17.441521]\n",
      "[17.879402] [17.425548]\n",
      "[18.426548] [17.424429]\n",
      "[17.826883] [17.458926]\n",
      "[14.277733] [17.480223]\n",
      "[17.796925] [17.490572]\n",
      "[17.460995] [17.498325]\n",
      "[18.61423] [17.511194]\n",
      "[18.08896] [17.515554]\n",
      "[17.915714] [17.540265]\n",
      "[15.840961] [17.547699]\n"
     ]
    },
    {
     "name": "stderr",
     "output_type": "stream",
     "text": [
      "1627it [00:12, 122.67it/s]"
     ]
    },
    {
     "name": "stdout",
     "output_type": "stream",
     "text": [
      "[16.810297] [17.564633]\n",
      "[19.008146] [17.591133]\n",
      "[18.395868] [17.562497]\n",
      "[20.01032] [17.597805]\n",
      "[19.546219] [17.621159]\n",
      "[18.753231] [17.634092]\n",
      "[18.62859] [17.637694]\n",
      "[18.38775] [17.640572]\n",
      "[19.996288] [17.643331]\n",
      "[19.780191] [17.658619]\n",
      "[19.581232] [17.676774]\n",
      "[19.709679] [17.669965]\n",
      "[19.702732] [17.721128]\n",
      "[18.027367] [17.746927]\n",
      "[18.308004] [17.779133]\n",
      "[16.602367] [17.777767]\n",
      "[17.188507] [17.788782]\n",
      "[18.975958] [17.76413]\n",
      "[18.246372] [17.781393]\n",
      "[18.51389] [17.780673]\n",
      "[14.963925] [17.860674]\n",
      "[17.710052] [17.862044]\n"
     ]
    },
    {
     "name": "stderr",
     "output_type": "stream",
     "text": [
      "\r",
      "1640it [00:12, 120.62it/s]"
     ]
    },
    {
     "name": "stdout",
     "output_type": "stream",
     "text": [
      "[16.608734] [17.901552]\n",
      "[17.125225] [17.895392]\n",
      "[17.95128] [17.902298]\n",
      "[17.548916] [17.900915]\n",
      "[15.754695] [17.90967]\n",
      "[18.284609] [17.921194]\n",
      "[20.03618] [17.961475]\n",
      "[20.541506] [17.952049]\n",
      "[19.084646] [18.01525]\n",
      "[18.207275] [18.030612]\n",
      "[20.500496] [17.999997]\n",
      "[18.942303] [18.007992]\n",
      "[18.3299] [17.991398]\n",
      "[18.873604] [18.016324]\n",
      "[19.513166] [18.035063]\n",
      "[17.617428] [18.078021]\n",
      "[19.048529] [18.182088]\n",
      "[19.625433] [18.149517]\n",
      "[18.596895] [18.152586]\n",
      "[17.797768] [18.139242]\n",
      "[19.277584] [18.149945]\n"
     ]
    },
    {
     "name": "stderr",
     "output_type": "stream",
     "text": [
      "1665it [00:12, 115.96it/s]"
     ]
    },
    {
     "name": "stdout",
     "output_type": "stream",
     "text": [
      "[19.540236] [18.140241]\n",
      "[17.951431] [18.176883]\n",
      "[17.83381] [18.140412]\n",
      "[17.533081] [18.201636]\n",
      "[17.40348] [18.185881]\n",
      "[11.057442] [18.185685]\n",
      "[19.178925] [18.257427]\n",
      "[18.241379] [18.219645]\n",
      "[18.041931] [18.248939]\n",
      "[20.246538] [18.211023]\n",
      "[18.82441] [18.24322]\n",
      "[18.328959] [18.235721]\n",
      "[17.2562] [18.306511]\n",
      "[19.201588] [18.382286]\n",
      "[18.169098] [18.329999]\n",
      "[19.209625] [18.379752]\n",
      "[15.935762] [18.403988]\n",
      "[17.80995] [18.391235]\n",
      "[15.668204] [18.454933]\n",
      "[20.49806] [18.434497]\n",
      "[17.381947] [18.421146]\n",
      "[19.286139] [18.499407]\n"
     ]
    },
    {
     "name": "stderr",
     "output_type": "stream",
     "text": [
      "1691it [00:12, 121.88it/s]"
     ]
    },
    {
     "name": "stdout",
     "output_type": "stream",
     "text": [
      "[21.640446] [18.467136]\n",
      "[18.768099] [18.483567]\n",
      "[20.00998] [18.522705]\n",
      "[21.060263] [18.54567]\n",
      "[21.525444] [18.592365]\n",
      "[18.334602] [18.600541]\n",
      "[19.040834] [18.605211]\n",
      "[17.763025] [18.642771]\n",
      "[16.974216] [18.645695]\n",
      "[16.957062] [18.65701]\n",
      "[16.731373] [18.68901]\n",
      "[19.678396] [18.70997]\n",
      "[19.015427] [18.764652]\n",
      "[20.023932] [18.739903]\n",
      "[20.44809] [18.768317]\n",
      "[19.326527] [18.790201]\n",
      "[20.466389] [18.79153]\n",
      "[13.166878] [18.818222]\n",
      "[19.463938] [18.874912]\n",
      "[17.803312] [18.853364]\n",
      "[19.01607] [18.898164]\n",
      "[18.111038] [18.948762]\n",
      "[18.212517] [18.879723]\n",
      "[19.608328] [18.997678]\n",
      "[18.981379] [19.003804]\n"
     ]
    },
    {
     "name": "stderr",
     "output_type": "stream",
     "text": [
      "1720it [00:13, 130.96it/s]"
     ]
    },
    {
     "name": "stdout",
     "output_type": "stream",
     "text": [
      "[16.858044] [19.027917]\n",
      "[17.079128] [19.035635]\n",
      "[18.316374] [19.050346]\n",
      "[14.449238] [19.066834]\n",
      "[18.112743] [19.076624]\n",
      "[19.886862] [19.077382]\n",
      "[17.97552] [19.108658]\n",
      "[18.26363] [19.110738]\n",
      "[19.010714] [19.154166]\n",
      "[19.312893] [19.156491]\n",
      "[19.6879] [19.158239]\n",
      "[17.720133] [19.166647]\n",
      "[20.778343] [19.169056]\n",
      "[18.407118] [19.178298]\n",
      "[15.258528] [19.193946]\n",
      "[19.658045] [19.203356]\n",
      "[18.7093] [19.207513]\n",
      "[20.11452] [19.21816]\n",
      "[19.369558] [19.220759]\n",
      "[19.176092] [19.17945]\n",
      "[18.650162] [19.039249]\n",
      "[17.837694] [19.289226]\n",
      "[18.963474] [19.227903]\n",
      "[18.159122] [19.261633]\n",
      "[19.366726] [19.254068]\n",
      "[16.24976] [19.20889]\n"
     ]
    },
    {
     "name": "stderr",
     "output_type": "stream",
     "text": [
      "1748it [00:13, 132.22it/s]"
     ]
    },
    {
     "name": "stdout",
     "output_type": "stream",
     "text": [
      "[18.196434] [19.313782]\n",
      "[20.06196] [19.25524]\n",
      "[17.820103] [19.17958]\n",
      "[19.484123] [19.261352]\n",
      "[17.649042] [19.240779]\n",
      "[17.81101] [19.256604]\n",
      "[20.503431] [19.25906]\n",
      "[18.58505] [19.25671]\n",
      "[18.734072] [19.249408]\n",
      "[18.527967] [19.260128]\n",
      "[15.653842] [19.265878]\n",
      "[19.237127] [19.252638]\n",
      "[18.966719] [19.25717]\n",
      "[18.466948] [19.259386]\n",
      "[18.546734] [19.258408]\n",
      "[18.09221] [19.242342]\n",
      "[18.414833] [19.243961]\n",
      "[18.739338] [19.249741]\n",
      "[19.816263] [19.247554]\n",
      "[18.631662] [19.249295]\n",
      "[20.302021] [19.261576]\n",
      "[17.910898] [19.245416]\n",
      "[17.852377] [19.242035]\n",
      "[17.126509] [19.243095]\n"
     ]
    },
    {
     "name": "stderr",
     "output_type": "stream",
     "text": [
      "\r",
      "1762it [00:13, 133.28it/s]"
     ]
    },
    {
     "name": "stdout",
     "output_type": "stream",
     "text": [
      "[18.674278] [19.246299]\n",
      "[20.951815] [19.265099]\n",
      "[19.56835] [19.264967]\n",
      "[17.208513] [19.27074]\n",
      "[18.715145] [19.276523]\n",
      "[18.425665] [19.277952]\n",
      "[19.757072] [19.293292]\n",
      "[19.249218] [19.298748]\n",
      "[15.019169] [19.309137]\n",
      "[19.505625] [19.307331]\n",
      "[18.90638] [19.310211]\n",
      "[18.053885] [19.330093]\n",
      "[19.050295] [19.338597]\n",
      "[17.4873] [19.33628]\n",
      "[17.968159] [19.331113]\n",
      "[19.246002] [19.336462]\n",
      "[18.864769] [19.33034]\n",
      "[18.966696] [19.337909]\n",
      "[18.546349] [19.326424]\n",
      "[19.78691] [19.32568]\n",
      "[19.16895] [19.323234]\n",
      "[18.029076] [19.331015]\n",
      "[17.331171] [19.344137]\n",
      "[18.902695] [19.333734]\n"
     ]
    },
    {
     "name": "stderr",
     "output_type": "stream",
     "text": [
      "1789it [00:13, 120.51it/s]"
     ]
    },
    {
     "name": "stdout",
     "output_type": "stream",
     "text": [
      "[18.407055] [19.331114]\n",
      "[18.555656] [19.34154]\n",
      "[19.039618] [19.341401]\n",
      "[17.302769] [19.338031]\n",
      "[18.679329] [19.337568]\n",
      "[15.739317] [19.318172]\n",
      "[16.514198] [19.314317]\n",
      "[17.90134] [19.299985]\n",
      "[18.248255] [19.298255]\n",
      "[19.611063] [19.306446]\n",
      "[17.626793] [19.301924]\n",
      "[19.520267] [19.301531]\n",
      "[16.998678] [19.287888]\n",
      "[17.609964] [19.275118]\n",
      "[15.72423] [19.266871]\n",
      "[18.61277] [19.26687]\n",
      "[18.108503] [19.274695]\n",
      "[17.63407] [19.266871]\n",
      "[18.416798] [19.312298]\n",
      "[17.892591] [19.496806]\n"
     ]
    },
    {
     "name": "stderr",
     "output_type": "stream",
     "text": [
      "\r",
      "1802it [00:13, 114.29it/s]"
     ]
    },
    {
     "name": "stdout",
     "output_type": "stream",
     "text": [
      "[18.525] [19.462181]\n",
      "[16.500107] [19.392921]\n",
      "[17.434633] [19.40636]\n",
      "[18.759155] [19.405514]\n",
      "[18.367514] [19.434195]\n",
      "[17.203331] [19.468295]\n",
      "[20.941545] [19.459304]\n",
      "[16.091063] [19.471353]\n",
      "[19.69844] [19.568985]\n",
      "[20.553905] [19.591833]\n",
      "[18.367737] [19.599831]\n",
      "[18.807835] [19.670802]\n",
      "[20.010548] [19.691994]\n",
      "[17.324913] [19.702286]\n",
      "[19.249329] [19.803067]\n",
      "[20.498781] [19.818536]\n",
      "[16.810942] [19.840864]\n",
      "[18.453505] [19.957208]\n",
      "[18.133291] [19.968473]\n"
     ]
    },
    {
     "name": "stderr",
     "output_type": "stream",
     "text": [
      "\r",
      "1814it [00:13, 109.64it/s]"
     ]
    },
    {
     "name": "stdout",
     "output_type": "stream",
     "text": [
      "[19.584925] [20.044892]\n",
      "[20.995049] [20.095464]\n",
      "[19.41312] [20.091217]\n",
      "[19.442074] [20.180235]\n",
      "[19.299911] [20.278325]\n"
     ]
    },
    {
     "name": "stderr",
     "output_type": "stream",
     "text": [
      "1837it [00:14, 43.39it/s] "
     ]
    },
    {
     "name": "stdout",
     "output_type": "stream",
     "text": [
      "[22.262133] [20.378323]\n",
      "[20.343363] [20.327859]\n",
      "[19.395947] [20.454665]\n",
      "[19.780518] [20.558327]\n",
      "[21.343716] [20.542988]\n",
      "[18.829313] [20.609818]\n",
      "[19.735025] [20.702006]\n",
      "[21.42959] [20.672411]\n",
      "[19.34255] [20.805909]\n",
      "[21.21628] [20.866092]\n",
      "[19.802849] [20.875175]\n",
      "[20.518246] [21.018297]\n",
      "[20.704153] [21.053542]\n",
      "[18.29429] [21.057202]\n",
      "[21.334135] [21.200049]\n",
      "[21.068447] [21.237504]\n",
      "[19.74835] [21.310135]\n",
      "[16.793383] [21.372472]\n",
      "[19.838556] [21.396407]\n",
      "[20.93226] [21.480065]\n",
      "[19.13037] [21.562465]\n",
      "[21.453878] [21.667742]\n",
      "[21.073154] [21.674597]\n"
     ]
    },
    {
     "name": "stderr",
     "output_type": "stream",
     "text": [
      "1861it [00:15, 63.36it/s]"
     ]
    },
    {
     "name": "stdout",
     "output_type": "stream",
     "text": [
      "[20.358849] [21.713823]\n",
      "[22.157831] [21.857873]\n",
      "[20.239391] [21.844187]\n",
      "[19.546007] [21.916101]\n",
      "[21.856262] [22.021439]\n",
      "[22.442818] [22.012294]\n",
      "[21.47] [22.099973]\n",
      "[19.612743] [22.16171]\n",
      "[21.285843] [22.154131]\n",
      "[22.164734] [22.278562]\n",
      "[21.444613] [22.328419]\n",
      "[21.818678] [22.324579]\n",
      "[20.529331] [22.365229]\n",
      "[21.57254] [22.475832]\n",
      "[21.37578] [22.523593]\n",
      "[21.889082] [22.54858]\n",
      "[21.06432] [22.565337]\n",
      "[19.652493] [22.646218]\n",
      "[22.173616] [22.690485]\n",
      "[22.94422] [22.803239]\n",
      "[23.047176] [22.80669]\n"
     ]
    },
    {
     "name": "stderr",
     "output_type": "stream",
     "text": [
      "\r",
      "1872it [00:15, 71.11it/s]"
     ]
    },
    {
     "name": "stdout",
     "output_type": "stream",
     "text": [
      "[21.5996] [22.847163]\n",
      "[20.974104] [22.952819]\n",
      "[22.858051] [22.943376]\n",
      "[22.247726] [22.979129]\n",
      "[23.058455] [23.078339]\n",
      "[20.641869] [23.064041]\n",
      "[21.447979] [23.124964]\n",
      "[21.662811] [23.192836]\n",
      "[23.18119] [23.169491]\n",
      "[22.050457] [23.232703]\n",
      "[22.011274] [23.290367]\n",
      "[22.09506] [23.336051]\n",
      "[22.405046] [23.381746]\n",
      "[22.723448] [23.434345]\n",
      "[23.206064] [23.507335]\n",
      "[23.419827] [23.504442]\n",
      "[19.793839] [23.543294]\n",
      "[21.931652] [23.588318]\n",
      "[20.96234] [23.603419]\n",
      "[22.785152] [23.694097]\n",
      "[23.228321] [23.714655]\n"
     ]
    },
    {
     "name": "stderr",
     "output_type": "stream",
     "text": [
      "1896it [00:15, 89.20it/s]"
     ]
    },
    {
     "name": "stdout",
     "output_type": "stream",
     "text": [
      "[21.951687] [23.744924]\n",
      "[22.426235] [23.8164]\n",
      "[23.77322] [23.825821]\n",
      "[22.824295] [23.857294]\n",
      "[24.183083] [23.954436]\n",
      "[24.104258] [23.952464]\n",
      "[24.493103] [23.995944]\n",
      "[23.355915] [24.049149]\n",
      "[18.454432] [24.058925]\n",
      "[18.172543] [24.105779]\n",
      "[24.508213] [24.162165]\n",
      "[23.583761] [24.206001]\n",
      "[22.637074] [24.205172]\n",
      "[22.02279] [24.309009]\n",
      "[23.414116] [24.33718]\n",
      "[24.989227] [24.316772]\n",
      "[23.947472] [24.356156]\n",
      "[24.780987] [24.432062]\n",
      "[23.989481] [24.417209]\n",
      "[23.156902] [24.487515]\n",
      "[21.3096] [24.531299]\n",
      "[23.172504] [24.513844]\n"
     ]
    },
    {
     "name": "stderr",
     "output_type": "stream",
     "text": [
      "1920it [00:15, 99.21it/s]"
     ]
    },
    {
     "name": "stdout",
     "output_type": "stream",
     "text": [
      "[23.897844] [24.610697]\n",
      "[24.66637] [24.64199]\n",
      "[22.324432] [24.645082]\n",
      "[24.33689] [24.683485]\n",
      "[23.326782] [24.686541]\n",
      "[23.744097] [24.730684]\n",
      "[23.973518] [24.774734]\n",
      "[23.382027] [24.786319]\n",
      "[22.79597] [24.847597]\n",
      "[21.28172] [24.803608]\n",
      "[23.42758] [24.84421]\n",
      "[21.956924] [24.772642]\n",
      "[22.354591] [24.888226]\n",
      "[23.705166] [24.794532]\n",
      "[22.889696] [24.801159]\n",
      "[22.322546] [24.852511]\n",
      "[22.658337] [24.816656]\n",
      "[23.97922] [24.805257]\n",
      "[25.964401] [24.806044]\n",
      "[23.382824] [24.732258]\n",
      "[21.574095] [24.746448]\n",
      "[23.887987] [24.601568]\n"
     ]
    },
    {
     "name": "stderr",
     "output_type": "stream",
     "text": [
      "1944it [00:15, 104.86it/s]"
     ]
    },
    {
     "name": "stdout",
     "output_type": "stream",
     "text": [
      "[24.097736] [24.797408]\n",
      "[23.041096] [24.740474]\n",
      "[25.715748] [24.715316]\n",
      "[24.221226] [24.691298]\n",
      "[24.637932] [24.658603]\n",
      "[24.534187] [24.637593]\n",
      "[22.181883] [24.620965]\n",
      "[25.92311] [24.625218]\n",
      "[23.312643] [24.607046]\n",
      "[19.495876] [24.572095]\n",
      "[24.744003] [24.56512]\n",
      "[25.729794] [24.548756]\n",
      "[23.758358] [24.538306]\n",
      "[25.34884] [24.526614]\n",
      "[24.77786] [24.510604]\n",
      "[23.61734] [24.506809]\n",
      "[24.099556] [24.498894]\n",
      "[24.78158] [24.486268]\n",
      "[23.574247] [24.451791]\n",
      "[22.198645] [24.466078]\n",
      "[21.818308] [24.414178]\n",
      "[23.886517] [24.388856]\n",
      "[23.562132] [24.395583]\n"
     ]
    },
    {
     "name": "stderr",
     "output_type": "stream",
     "text": [
      "1968it [00:16, 109.84it/s]"
     ]
    },
    {
     "name": "stdout",
     "output_type": "stream",
     "text": [
      "[24.373966] [24.363252]\n",
      "[23.925339] [24.342749]\n",
      "[22.67798] [24.344394]\n",
      "[23.107054] [24.335023]\n",
      "[24.955309] [24.326128]\n",
      "[21.931904] [24.266448]\n",
      "[23.56508] [24.258769]\n",
      "[24.305243] [24.21865]\n",
      "[20.064787] [24.212714]\n",
      "[16.60209] [24.208416]\n",
      "[22.344698] [24.192831]\n",
      "[22.92428] [24.187146]\n",
      "[23.866407] [24.175494]\n",
      "[21.032227] [24.129309]\n",
      "[22.104202] [24.150305]\n",
      "[22.425177] [24.141869]\n",
      "[22.06708] [24.08634]\n",
      "[22.929886] [24.101077]\n",
      "[23.39598] [24.065498]\n",
      "[20.096111] [24.036147]\n",
      "[24.127254] [24.025899]\n",
      "[22.18379] [24.020464]\n",
      "[20.785683] [23.993589]\n"
     ]
    },
    {
     "name": "stderr",
     "output_type": "stream",
     "text": [
      "1992it [00:16, 108.22it/s]"
     ]
    },
    {
     "name": "stdout",
     "output_type": "stream",
     "text": [
      "[22.409454] [23.968598]\n",
      "[23.419853] [23.978732]\n",
      "[20.33396] [23.949734]\n",
      "[21.611668] [23.928576]\n",
      "[22.312231] [23.927498]\n",
      "[21.680983] [23.858516]\n",
      "[22.69286] [23.854028]\n",
      "[20.429468] [23.843264]\n",
      "[22.404411] [23.826556]\n",
      "[22.915464] [23.814463]\n",
      "[22.797478] [23.802678]\n",
      "[21.729227] [23.735388]\n",
      "[22.532125] [23.730701]\n",
      "[22.918964] [23.716902]\n",
      "[24.704054] [23.690183]\n",
      "[22.29312] [23.689396]\n",
      "[22.523481] [23.627511]\n",
      "[23.520485] [23.585575]\n",
      "[21.121851] [23.517906]\n",
      "[24.269627] [23.541615]\n",
      "[23.944677] [23.516946]\n"
     ]
    },
    {
     "name": "stderr",
     "output_type": "stream",
     "text": [
      "\r",
      "2004it [00:16, 110.25it/s]"
     ]
    },
    {
     "name": "stdout",
     "output_type": "stream",
     "text": [
      "[21.199682] [23.48526]\n",
      "[22.27907] [23.49255]\n",
      "[20.61104] [23.459347]\n",
      "[23.023962] [23.403455]\n",
      "[21.49806] [23.404196]\n",
      "[21.197498] [23.379435]\n",
      "[21.97671] [23.356594]\n",
      "[23.283358] [23.364737]\n",
      "[16.700054] [23.354206]\n",
      "[22.99201] [23.337295]\n",
      "[20.793905] [23.340069]\n",
      "[22.409985] [23.346812]\n",
      "[21.813765] [23.314252]\n",
      "[21.121935] [23.320485]\n",
      "[21.70044] [23.320348]\n",
      "[23.378407] [23.313098]\n",
      "[20.87897] [23.318582]\n",
      "[22.753164] [23.292833]\n",
      "[22.6364] [23.32066]\n",
      "[21.29911] [23.317144]\n",
      "[22.46956] [23.351801]\n",
      "[17.450161] [23.229091]\n"
     ]
    },
    {
     "name": "stderr",
     "output_type": "stream",
     "text": [
      "2029it [00:16, 115.06it/s]"
     ]
    },
    {
     "name": "stdout",
     "output_type": "stream",
     "text": [
      "[18.08281] [23.240948]\n",
      "[18.754068] [23.253324]\n",
      "[23.142658] [23.205674]\n",
      "[20.78787] [23.220234]\n",
      "[24.741987] [23.211496]\n",
      "[23.631771] [23.20123]\n",
      "[23.662905] [23.195469]\n",
      "[23.454372] [23.19863]\n",
      "[21.38441] [23.177836]\n",
      "[22.719017] [23.19088]\n",
      "[21.311213] [23.158152]\n",
      "[21.775951] [23.154549]\n",
      "[20.981876] [23.155015]\n",
      "[22.684372] [23.156593]\n",
      "[21.052095] [23.153534]\n",
      "[21.48057] [23.139321]\n",
      "[24.193539] [23.13157]\n",
      "[20.830608] [23.109822]\n",
      "[21.099161] [23.112378]\n",
      "[21.112259] [23.118574]\n",
      "[19.997982] [23.094664]\n",
      "[20.786392] [23.104091]\n",
      "[20.88565] [23.092799]\n"
     ]
    },
    {
     "name": "stderr",
     "output_type": "stream",
     "text": [
      "2053it [00:16, 115.43it/s]"
     ]
    },
    {
     "name": "stdout",
     "output_type": "stream",
     "text": [
      "[23.00951] [23.083131]\n",
      "[22.951767] [23.0794]\n",
      "[23.253807] [23.097455]\n",
      "[19.929558] [23.070734]\n",
      "[22.4045] [23.075198]\n",
      "[23.500418] [23.08327]\n",
      "[21.547234] [23.056101]\n",
      "[21.36827] [23.070884]\n",
      "[19.503063] [23.069516]\n",
      "[23.318516] [23.031271]\n",
      "[21.732203] [22.995976]\n",
      "[21.904064] [23.00189]\n",
      "[23.165573] [22.983224]\n",
      "[21.443085] [22.972332]\n",
      "[23.540129] [22.965585]\n",
      "[20.620028] [22.940267]\n",
      "[23.788326] [22.93582]\n",
      "[23.199657] [22.935934]\n",
      "[21.284927] [22.937086]\n",
      "[19.610533] [22.942328]\n",
      "[21.537395] [22.932293]\n"
     ]
    },
    {
     "name": "stderr",
     "output_type": "stream",
     "text": [
      "2077it [00:17, 115.72it/s]"
     ]
    },
    {
     "name": "stdout",
     "output_type": "stream",
     "text": [
      "[25.334679] [22.89646]\n",
      "[22.490023] [22.911769]\n",
      "[22.960443] [22.9039]\n",
      "[21.091503] [22.895667]\n",
      "[23.090427] [22.906991]\n",
      "[23.866425] [22.87433]\n",
      "[21.959211] [22.879416]\n",
      "[22.19491] [22.883544]\n",
      "[22.816294] [22.882002]\n",
      "[22.418034] [22.837914]\n",
      "[22.266169] [22.853369]\n",
      "[21.799381] [22.863064]\n",
      "[25.796494] [22.856988]\n",
      "[21.966604] [22.843156]\n",
      "[22.527172] [22.825635]\n",
      "[21.197191] [22.799409]\n",
      "[20.79786] [22.810632]\n",
      "[23.279108] [22.801466]\n",
      "[23.106276] [22.796638]\n",
      "[24.24223] [22.806708]\n",
      "[22.285185] [22.809673]\n",
      "[24.836445] [22.792543]\n"
     ]
    },
    {
     "name": "stderr",
     "output_type": "stream",
     "text": [
      "2101it [00:17, 114.70it/s]"
     ]
    },
    {
     "name": "stdout",
     "output_type": "stream",
     "text": [
      "[22.380049] [22.794035]\n",
      "[22.98859] [22.785113]\n",
      "[23.112062] [22.786034]\n",
      "[22.92875] [22.786946]\n",
      "[22.202116] [22.765948]\n",
      "[23.425243] [22.762462]\n",
      "[23.198559] [22.754696]\n",
      "[22.311565] [22.733945]\n",
      "[22.752844] [22.735419]\n",
      "[21.74887] [22.747473]\n",
      "[22.926285] [22.736538]\n",
      "[21.628296] [22.746608]\n",
      "[23.396084] [22.738686]\n",
      "[26.070475] [22.746608]\n",
      "[23.615982] [22.750729]\n",
      "[21.064686] [22.758889]\n",
      "[23.778576] [22.734189]\n",
      "[21.504099] [22.73859]\n",
      "[21.208063] [22.760405]\n",
      "[23.09361] [22.775226]\n",
      "[20.473944] [22.76437]\n"
     ]
    },
    {
     "name": "stderr",
     "output_type": "stream",
     "text": [
      "\r",
      "2113it [00:17, 110.75it/s]"
     ]
    },
    {
     "name": "stdout",
     "output_type": "stream",
     "text": [
      "[24.920584] [22.747191]\n",
      "[23.933678] [22.757794]\n",
      "[23.682266] [22.772138]\n",
      "[21.596455] [22.784103]\n",
      "[24.636934] [22.763778]\n",
      "[23.849] [22.758952]\n",
      "[22.702244] [22.772829]\n",
      "[23.355202] [22.793555]\n",
      "[22.46553] [22.792337]\n",
      "[25.615837] [22.807278]\n",
      "[17.43393] [22.780775]\n",
      "[22.153166] [22.804505]\n",
      "[24.329395] [22.821557]\n",
      "[22.683039] [22.826702]\n",
      "[24.247383] [22.832547]\n",
      "[23.271893] [22.837501]\n",
      "[22.618803] [22.836791]\n",
      "[23.845524] [22.848045]\n",
      "[22.944048] [22.874093]\n",
      "[22.984055] [22.855035]\n"
     ]
    },
    {
     "name": "stderr",
     "output_type": "stream",
     "text": [
      "2137it [00:17, 112.25it/s]"
     ]
    },
    {
     "name": "stdout",
     "output_type": "stream",
     "text": [
      "[24.416695] [22.890136]\n",
      "[21.014645] [22.915846]\n",
      "[19.70185] [22.932689]\n",
      "[22.979841] [22.9162]\n",
      "[22.256989] [22.944365]\n",
      "[22.900303] [22.955797]\n",
      "[21.329115] [22.959327]\n",
      "[23.371248] [22.9766]\n",
      "[22.058022] [22.977614]\n",
      "[23.322943] [22.989657]\n",
      "[22.566603] [23.04071]\n",
      "[22.80782] [23.032464]\n",
      "[22.18903] [23.079091]\n",
      "[19.449913] [23.091546]\n",
      "[22.034094] [23.091813]\n",
      "[19.5185] [23.1218]\n",
      "[21.781446] [23.145329]\n",
      "[20.567972] [23.143353]\n",
      "[23.174177] [23.162015]\n",
      "[21.690693] [23.177157]\n",
      "[21.232925] [23.174327]\n",
      "[21.006071] [23.212964]\n"
     ]
    },
    {
     "name": "stderr",
     "output_type": "stream",
     "text": [
      "2161it [00:17, 112.85it/s]"
     ]
    },
    {
     "name": "stdout",
     "output_type": "stream",
     "text": [
      "[24.181677] [23.219308]\n",
      "[24.051146] [23.22658]\n",
      "[22.494085] [23.252998]\n",
      "[22.840322] [23.261231]\n",
      "[22.219898] [23.285303]\n",
      "[23.538433] [23.290118]\n",
      "[21.108774] [23.325034]\n",
      "[24.367002] [23.340384]\n",
      "[22.890844] [23.343727]\n",
      "[22.4681] [23.38826]\n",
      "[22.344988] [23.397462]\n",
      "[22.459011] [23.396619]\n",
      "[22.15703] [23.413562]\n",
      "[18.883682] [23.437509]\n",
      "[21.903072] [23.462757]\n",
      "[23.138283] [23.486842]\n",
      "[23.010122] [23.504227]\n",
      "[20.974743] [23.500191]\n",
      "[19.366726] [23.517385]\n",
      "[20.425747] [23.523671]\n",
      "[21.894266] [23.528544]\n",
      "[22.848536] [23.577988]\n"
     ]
    },
    {
     "name": "stderr",
     "output_type": "stream",
     "text": [
      "2185it [00:18, 113.48it/s]"
     ]
    },
    {
     "name": "stdout",
     "output_type": "stream",
     "text": [
      "[21.798254] [23.585747]\n",
      "[22.296513] [23.562446]\n",
      "[19.833494] [23.619308]\n",
      "[18.76468] [23.61381]\n",
      "[19.937342] [23.614392]\n",
      "[18.87565] [23.635931]\n",
      "[20.969326] [23.662072]\n",
      "[20.267593] [23.647263]\n",
      "[20.620897] [23.697133]\n",
      "[18.23674] [23.702325]\n",
      "[20.086231] [23.715195]\n",
      "[20.732534] [23.728034]\n",
      "[23.073204] [23.738309]\n",
      "[22.857006] [23.788204]\n",
      "[19.885038] [23.800628]\n",
      "[20.57789] [23.808804]\n",
      "[22.73624] [23.818718]\n",
      "[22.15805] [23.802828]\n",
      "[22.911129] [23.854876]\n",
      "[20.192793] [23.840973]\n",
      "[23.621521] [23.862442]\n",
      "[24.194624] [23.915274]\n"
     ]
    },
    {
     "name": "stderr",
     "output_type": "stream",
     "text": [
      "2209it [00:18, 114.26it/s]"
     ]
    },
    {
     "name": "stdout",
     "output_type": "stream",
     "text": [
      "[21.933575] [23.893354]\n",
      "[20.332266] [23.925939]\n",
      "[20.39915] [23.920764]\n",
      "[21.78444] [23.916303]\n",
      "[23.919422] [23.946636]\n",
      "[22.928154] [23.983204]\n",
      "[20.900383] [23.977858]\n",
      "[21.679167] [23.987537]\n",
      "[23.714642] [23.997087]\n",
      "[22.024126] [24.008027]\n",
      "[23.959875] [24.021961]\n",
      "[23.119291] [24.047037]\n",
      "[23.200874] [24.079622]\n",
      "[18.680105] [24.082984]\n",
      "[24.618277] [24.082856]\n",
      "[23.833017] [24.112357]\n",
      "[23.440126] [24.116642]\n",
      "[23.496578] [24.141337]\n",
      "[22.512804] [24.128607]\n",
      "[22.548895] [24.157399]\n",
      "[24.369421] [24.184491]\n",
      "[22.0643] [24.190231]\n"
     ]
    },
    {
     "name": "stderr",
     "output_type": "stream",
     "text": [
      "\r",
      "2221it [00:18, 111.99it/s]"
     ]
    },
    {
     "name": "stdout",
     "output_type": "stream",
     "text": [
      "[23.59201] [24.209503]\n",
      "[23.613983] [24.225739]\n",
      "[19.635983] [24.223405]\n",
      "[20.60036] [24.231718]\n",
      "[21.82287] [24.242045]\n",
      "[21.92059] [24.25672]\n",
      "[19.801542] [24.259655]\n",
      "[19.913] [24.276366]\n",
      "[20.090607] [24.264831]\n",
      "[19.516693] [24.291961]\n",
      "[22.992468] [24.312079]\n",
      "[21.08502] [24.332096]\n",
      "[23.41323] [24.322765]\n",
      "[13.611035] [24.341591]\n",
      "[17.007711] [24.368401]\n",
      "[16.204979] [24.362665]\n",
      "[21.629416] [24.377246]\n",
      "[22.212004] [24.372262]\n",
      "[21.817225] [24.391026]\n",
      "[25.174671] [24.409193]\n",
      "[18.787586] [24.391176]\n",
      "[16.088438] [24.413708]\n"
     ]
    },
    {
     "name": "stderr",
     "output_type": "stream",
     "text": [
      "2245it [00:18, 113.97it/s]"
     ]
    },
    {
     "name": "stdout",
     "output_type": "stream",
     "text": [
      "[13.650074] [24.431744]\n",
      "[17.831228] [24.414999]\n",
      "[19.876097] [24.44471]\n",
      "[22.641172] [24.440615]\n",
      "[19.280737] [24.45214]\n",
      "[21.67443] [24.467912]\n",
      "[22.524237] [24.469752]\n",
      "[20.894445] [24.463384]\n",
      "[22.9891] [24.496956]\n",
      "[21.714441] [24.506641]\n",
      "[22.452213] [24.534676]\n",
      "[24.50621] [24.50346]\n",
      "[22.399473] [24.510923]\n",
      "[23.360563] [24.524218]\n",
      "[22.58592] [24.513267]\n",
      "[20.818996] [24.547987]\n",
      "[22.622309] [24.558673]\n",
      "[23.591955] [24.560893]\n",
      "[24.324108] [24.563145]\n",
      "[24.737162] [24.573726]\n",
      "[23.047018] [24.57311]\n",
      "[24.714909] [24.595843]\n",
      "[22.581635] [24.588626]\n",
      "[23.45559] [24.588819]\n",
      "[25.791513] [24.60451]\n"
     ]
    },
    {
     "name": "stderr",
     "output_type": "stream",
     "text": [
      "2271it [00:18, 120.82it/s]"
     ]
    },
    {
     "name": "stdout",
     "output_type": "stream",
     "text": [
      "[23.670546] [24.603343]\n",
      "[21.261166] [24.611327]\n",
      "[23.387548] [24.617949]\n",
      "[24.7342] [24.617589]\n",
      "[19.699724] [24.612082]\n",
      "[23.21416] [24.62499]\n",
      "[20.292004] [24.655493]\n",
      "[23.26615] [24.645718]\n",
      "[17.856989] [24.669755]\n",
      "[25.763968] [24.659356]\n",
      "[22.595995] [24.663609]\n",
      "[15.363712] [24.67618]\n",
      "[20.530056] [24.656229]\n",
      "[24.525686] [24.669217]\n",
      "[20.021725] [24.675493]\n",
      "[21.45062] [24.670695]\n",
      "[22.900537] [24.664491]\n",
      "[24.823236] [24.690588]\n",
      "[21.72525] [24.681022]\n",
      "[23.709742] [24.698332]\n",
      "[22.618713] [24.711234]\n",
      "[20.741169] [24.709582]\n",
      "[23.767502] [24.697418]\n",
      "[21.02873] [24.715826]\n"
     ]
    },
    {
     "name": "stderr",
     "output_type": "stream",
     "text": [
      "2298it [00:18, 123.21it/s]"
     ]
    },
    {
     "name": "stdout",
     "output_type": "stream",
     "text": [
      "[19.344965] [24.730693]\n",
      "[20.341503] [24.710232]\n",
      "[21.829235] [24.705473]\n",
      "[21.255514] [24.722414]\n",
      "[21.038803] [24.712842]\n",
      "[22.42423] [24.730387]\n",
      "[22.993979] [24.739261]\n",
      "[20.9869] [24.733493]\n",
      "[20.66643] [24.737442]\n",
      "[20.648794] [24.724976]\n",
      "[21.142845] [24.735256]\n",
      "[20.427507] [24.732227]\n",
      "[15.924234] [24.696438]\n",
      "[15.207729] [24.699764]\n",
      "[25.188463] [24.698624]\n",
      "[22.82372] [24.69629]\n",
      "[21.112207] [24.686541]\n",
      "[22.556181] [24.679384]\n",
      "[23.326155] [24.682082]\n",
      "[22.85919] [24.676292]\n",
      "[23.65954] [24.682672]\n",
      "[20.006985] [24.645536]\n",
      "[23.194075] [24.637307]\n"
     ]
    },
    {
     "name": "stderr",
     "output_type": "stream",
     "text": [
      "2325it [00:19, 129.45it/s]"
     ]
    },
    {
     "name": "stdout",
     "output_type": "stream",
     "text": [
      "[23.490097] [24.634688]\n",
      "[21.734577] [24.649688]\n",
      "[22.869787] [24.638818]\n",
      "[23.196198] [24.633293]\n",
      "[22.331177] [24.62689]\n",
      "[22.461103] [24.624666]\n",
      "[22.70841] [24.601887]\n",
      "[21.443993] [24.591521]\n",
      "[19.666243] [24.575891]\n",
      "[19.448862] [24.593896]\n",
      "[21.401396] [24.575511]\n",
      "[22.411345] [24.569918]\n",
      "[22.325563] [24.553958]\n",
      "[22.396894] [24.509565]\n",
      "[22.93946] [24.471349]\n",
      "[20.055683] [24.476496]\n",
      "[23.233177] [24.452904]\n",
      "[22.792307] [24.443704]\n",
      "[22.169859] [24.445733]\n",
      "[23.32121] [24.494348]\n",
      "[20.440832] [24.491677]\n",
      "[23.387989] [24.505282]\n",
      "[22.316248] [24.488444]\n",
      "[22.288628] [24.482381]\n",
      "[23.720083] [24.469783]\n",
      "[22.230219] [24.44237]\n"
     ]
    },
    {
     "name": "stderr",
     "output_type": "stream",
     "text": [
      "2352it [00:19, 130.69it/s]"
     ]
    },
    {
     "name": "stdout",
     "output_type": "stream",
     "text": [
      "[23.257029] [24.429367]\n",
      "[21.295067] [24.42388]\n",
      "[22.460182] [24.399167]\n",
      "[21.13818] [24.406126]\n",
      "[23.737995] [24.395858]\n",
      "[15.869944] [24.393127]\n",
      "[21.211615] [24.385415]\n",
      "[22.946323] [24.385755]\n",
      "[24.731836] [24.380236]\n",
      "[23.295496] [24.370205]\n",
      "[23.761248] [24.376022]\n",
      "[24.445272] [24.353938]\n",
      "[23.780014] [24.29852]\n",
      "[23.931139] [24.314271]\n",
      "[18.77137] [24.268291]\n",
      "[21.580614] [24.259561]\n",
      "[20.916052] [24.25365]\n",
      "[22.428514] [24.271428]\n",
      "[24.309301] [24.285745]\n",
      "[25.02974] [24.288444]\n",
      "[18.062887] [24.27503]\n",
      "[25.730864] [24.251958]\n",
      "[24.407621] [24.242526]\n",
      "[26.086472] [24.239415]\n"
     ]
    },
    {
     "name": "stderr",
     "output_type": "stream",
     "text": [
      "\r",
      "2366it [00:19, 130.33it/s]"
     ]
    }
   ],
   "source": [
    "predictions = []\n",
    "for i, filename in tqdm(enumerate(os.listdir(frames_path))):\n",
    "    if filename.endswith(\".jpg\"):\n",
    "        img = cv.imread(frames_path+filename)\n",
    "        rgb = image_transforms(img)\n",
    "        p = loaded_model.predict(rgb.unsqueeze(0))\n",
    "        p_ = dataset.scaler.inverse_transform(p)[0]\n",
    "        predictions.append(p_)\n",
    "        print(p_, labels.values[i])\n",
    "        cv.imshow('img', img)q"
   ]
  },
  {
   "cell_type": "code",
   "execution_count": null,
   "id": "8b84a522",
   "metadata": {},
   "outputs": [],
   "source": []
  }
 ],
 "metadata": {
  "kernelspec": {
   "display_name": "Python 3.8.8 64-bit ('perception': conda)",
   "language": "python",
   "name": "python38864bitperceptionconda391b51a5046348399364a0578303de72"
  },
  "language_info": {
   "codemirror_mode": {
    "name": "ipython",
    "version": 3
   },
   "file_extension": ".py",
   "mimetype": "text/x-python",
   "name": "python",
   "nbconvert_exporter": "python",
   "pygments_lexer": "ipython3",
   "version": "3.8.8"
  }
 },
 "nbformat": 4,
 "nbformat_minor": 5
}
